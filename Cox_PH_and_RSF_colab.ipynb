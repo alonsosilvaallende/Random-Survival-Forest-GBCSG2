{
  "nbformat": 4,
  "nbformat_minor": 0,
  "metadata": {
    "colab": {
      "name": "Cox_PH_and_RSF-colab.ipynb",
      "provenance": [],
      "collapsed_sections": [],
      "include_colab_link": true
    },
    "kernelspec": {
      "display_name": "Python 3",
      "language": "python",
      "name": "python3"
    },
    "language_info": {
      "codemirror_mode": {
        "name": "ipython",
        "version": 3
      },
      "file_extension": ".py",
      "mimetype": "text/x-python",
      "name": "python",
      "nbconvert_exporter": "python",
      "pygments_lexer": "ipython3",
      "version": "3.8.2"
    }
  },
  "cells": [
    {
      "cell_type": "markdown",
      "metadata": {
        "id": "view-in-github",
        "colab_type": "text"
      },
      "source": [
        "<a href=\"https://colab.research.google.com/github/alonsosilvaallende/Random-Survival-Forest-GBCSG2/blob/master/Cox_PH_and_RSF_colab.ipynb\" target=\"_parent\"><img src=\"https://colab.research.google.com/assets/colab-badge.svg\" alt=\"Open In Colab\"/></a>"
      ]
    },
    {
      "cell_type": "markdown",
      "metadata": {
        "id": "UN3PoUTSb2nT",
        "colab_type": "text"
      },
      "source": [
        "The objective of this post is to compare two models (Cox proportional hazards model and Random survival forest model) to estimate the survival probability given a set of features/covariables.\n",
        "\n",
        ">[\"Experimental Comparison of Semi-parametric, Parametric, and Machine Learning Models for Time-to-Event Analysis Through the Concordance Index,\"](https://arxiv.org/abs/2003.08820)\n",
        "Camila Fernandez, Chung Shue Chen, Pierre Gaillard, Alonso Silva\n",
        "\n",
        "To perform this analysis we will use [scikit-learn](https://scikit-learn.org/) and [scikit-survival](https://pypi.org/project/scikit-survival/). Finally, we will use [eli5](https://eli5.readthedocs.io/en/latest/index.html) to study feature importances (computed with permutation importance)."
      ]
    },
    {
      "cell_type": "code",
      "metadata": {
        "id": "pzqGFx_Bb_6A",
        "colab_type": "code",
        "colab": {}
      },
      "source": [
        "!pip install -q scikit-survival"
      ],
      "execution_count": 0,
      "outputs": []
    },
    {
      "cell_type": "code",
      "metadata": {
        "colab_type": "code",
        "id": "VoQVEI5p_rga",
        "colab": {}
      },
      "source": [
        "import numpy as np\n",
        "import pandas as pd\n",
        "import matplotlib.pyplot as plt"
      ],
      "execution_count": 0,
      "outputs": []
    },
    {
      "cell_type": "markdown",
      "metadata": {
        "id": "SnT6e_JPb2ns",
        "colab_type": "text"
      },
      "source": [
        "We first download a dataset from scikit-survival."
      ]
    },
    {
      "cell_type": "code",
      "metadata": {
        "colab_type": "code",
        "id": "D0xxNWzI-N3j",
        "colab": {}
      },
      "source": [
        "from sksurv.datasets import load_gbsg2\n",
        "\n",
        "X, y = load_gbsg2()"
      ],
      "execution_count": 0,
      "outputs": []
    },
    {
      "cell_type": "markdown",
      "metadata": {
        "id": "IBTo4q_Hb2n0",
        "colab_type": "text"
      },
      "source": [
        "## An example: German Breast Cancer Study Group 2 (gbcsg)\n",
        "\n",
        "This dataset contains the following 8 features/covariables:\n",
        "\n",
        "- age: age (in years), \n",
        "- estrec: estrogen receptor (in fmol), \n",
        "- horTh: hormonal therapy (yes or no), \n",
        "- menostat: menopausal status (premenopausal or postmenopausal),\n",
        "- pnodes: number of positive nodes, \n",
        "- progrec: progesterone receptor (in fmol), \n",
        "- tgrade: tumor grade (I < II < III), \n",
        "- tsize: tumor size (in mm).\n",
        "\n",
        "and the two outputs: \n",
        "\n",
        "- recurrence free time (in days),\n",
        "- censoring indicator (0 - censored, 1 - event).\n",
        "\n",
        "The dataset has 686 samples and 8 features/covariables.\n",
        "\n",
        "\n",
        "**References**\n",
        "\n",
        "M. Schumacher, G. Basert, H. Bojar, K. Huebner, M. Olschewski, W. Sauerbrei, C. Schmoor, C. Beyerle, R.L.A. Neumann and H.F. Rauschecker for the German Breast Cancer Study Group (1994), [Randomized 2 x 2 trial evaluating hormonal treatment and the duration of chemotherapy in node-positive breast cancer patients](https://www.ncbi.nlm.nih.gov/pubmed/7931478). Journal of Clinical Oncology, 12, 2086–2093."
      ]
    },
    {
      "cell_type": "markdown",
      "metadata": {
        "id": "kAsZ72YYb2n3",
        "colab_type": "text"
      },
      "source": [
        "Let's take a look at the features/covariates."
      ]
    },
    {
      "cell_type": "code",
      "metadata": {
        "colab_type": "code",
        "id": "_OlmlI6g-X43",
        "outputId": "16c9fb0c-1930-4092-f2ef-110abaf2c572",
        "scrolled": true,
        "colab": {
          "base_uri": "https://localhost:8080/",
          "height": 254
        }
      },
      "source": [
        "X.head(10).style.hide_index()"
      ],
      "execution_count": 4,
      "outputs": [
        {
          "output_type": "execute_result",
          "data": {
            "text/html": [
              "<style  type=\"text/css\" >\n",
              "</style><table id=\"T_7b7e1c44_9574_11ea_9071_0242ac1c0002\" ><thead>    <tr>        <th class=\"col_heading level0 col0\" >age</th>        <th class=\"col_heading level0 col1\" >estrec</th>        <th class=\"col_heading level0 col2\" >horTh</th>        <th class=\"col_heading level0 col3\" >menostat</th>        <th class=\"col_heading level0 col4\" >pnodes</th>        <th class=\"col_heading level0 col5\" >progrec</th>        <th class=\"col_heading level0 col6\" >tgrade</th>        <th class=\"col_heading level0 col7\" >tsize</th>    </tr></thead><tbody>\n",
              "                <tr>\n",
              "                                <td id=\"T_7b7e1c44_9574_11ea_9071_0242ac1c0002row0_col0\" class=\"data row0 col0\" >70.000000</td>\n",
              "                        <td id=\"T_7b7e1c44_9574_11ea_9071_0242ac1c0002row0_col1\" class=\"data row0 col1\" >66.000000</td>\n",
              "                        <td id=\"T_7b7e1c44_9574_11ea_9071_0242ac1c0002row0_col2\" class=\"data row0 col2\" >no</td>\n",
              "                        <td id=\"T_7b7e1c44_9574_11ea_9071_0242ac1c0002row0_col3\" class=\"data row0 col3\" >Post</td>\n",
              "                        <td id=\"T_7b7e1c44_9574_11ea_9071_0242ac1c0002row0_col4\" class=\"data row0 col4\" >3.000000</td>\n",
              "                        <td id=\"T_7b7e1c44_9574_11ea_9071_0242ac1c0002row0_col5\" class=\"data row0 col5\" >48.000000</td>\n",
              "                        <td id=\"T_7b7e1c44_9574_11ea_9071_0242ac1c0002row0_col6\" class=\"data row0 col6\" >II</td>\n",
              "                        <td id=\"T_7b7e1c44_9574_11ea_9071_0242ac1c0002row0_col7\" class=\"data row0 col7\" >21.000000</td>\n",
              "            </tr>\n",
              "            <tr>\n",
              "                                <td id=\"T_7b7e1c44_9574_11ea_9071_0242ac1c0002row1_col0\" class=\"data row1 col0\" >56.000000</td>\n",
              "                        <td id=\"T_7b7e1c44_9574_11ea_9071_0242ac1c0002row1_col1\" class=\"data row1 col1\" >77.000000</td>\n",
              "                        <td id=\"T_7b7e1c44_9574_11ea_9071_0242ac1c0002row1_col2\" class=\"data row1 col2\" >yes</td>\n",
              "                        <td id=\"T_7b7e1c44_9574_11ea_9071_0242ac1c0002row1_col3\" class=\"data row1 col3\" >Post</td>\n",
              "                        <td id=\"T_7b7e1c44_9574_11ea_9071_0242ac1c0002row1_col4\" class=\"data row1 col4\" >7.000000</td>\n",
              "                        <td id=\"T_7b7e1c44_9574_11ea_9071_0242ac1c0002row1_col5\" class=\"data row1 col5\" >61.000000</td>\n",
              "                        <td id=\"T_7b7e1c44_9574_11ea_9071_0242ac1c0002row1_col6\" class=\"data row1 col6\" >II</td>\n",
              "                        <td id=\"T_7b7e1c44_9574_11ea_9071_0242ac1c0002row1_col7\" class=\"data row1 col7\" >12.000000</td>\n",
              "            </tr>\n",
              "            <tr>\n",
              "                                <td id=\"T_7b7e1c44_9574_11ea_9071_0242ac1c0002row2_col0\" class=\"data row2 col0\" >58.000000</td>\n",
              "                        <td id=\"T_7b7e1c44_9574_11ea_9071_0242ac1c0002row2_col1\" class=\"data row2 col1\" >271.000000</td>\n",
              "                        <td id=\"T_7b7e1c44_9574_11ea_9071_0242ac1c0002row2_col2\" class=\"data row2 col2\" >yes</td>\n",
              "                        <td id=\"T_7b7e1c44_9574_11ea_9071_0242ac1c0002row2_col3\" class=\"data row2 col3\" >Post</td>\n",
              "                        <td id=\"T_7b7e1c44_9574_11ea_9071_0242ac1c0002row2_col4\" class=\"data row2 col4\" >9.000000</td>\n",
              "                        <td id=\"T_7b7e1c44_9574_11ea_9071_0242ac1c0002row2_col5\" class=\"data row2 col5\" >52.000000</td>\n",
              "                        <td id=\"T_7b7e1c44_9574_11ea_9071_0242ac1c0002row2_col6\" class=\"data row2 col6\" >II</td>\n",
              "                        <td id=\"T_7b7e1c44_9574_11ea_9071_0242ac1c0002row2_col7\" class=\"data row2 col7\" >35.000000</td>\n",
              "            </tr>\n",
              "            <tr>\n",
              "                                <td id=\"T_7b7e1c44_9574_11ea_9071_0242ac1c0002row3_col0\" class=\"data row3 col0\" >59.000000</td>\n",
              "                        <td id=\"T_7b7e1c44_9574_11ea_9071_0242ac1c0002row3_col1\" class=\"data row3 col1\" >29.000000</td>\n",
              "                        <td id=\"T_7b7e1c44_9574_11ea_9071_0242ac1c0002row3_col2\" class=\"data row3 col2\" >yes</td>\n",
              "                        <td id=\"T_7b7e1c44_9574_11ea_9071_0242ac1c0002row3_col3\" class=\"data row3 col3\" >Post</td>\n",
              "                        <td id=\"T_7b7e1c44_9574_11ea_9071_0242ac1c0002row3_col4\" class=\"data row3 col4\" >4.000000</td>\n",
              "                        <td id=\"T_7b7e1c44_9574_11ea_9071_0242ac1c0002row3_col5\" class=\"data row3 col5\" >60.000000</td>\n",
              "                        <td id=\"T_7b7e1c44_9574_11ea_9071_0242ac1c0002row3_col6\" class=\"data row3 col6\" >II</td>\n",
              "                        <td id=\"T_7b7e1c44_9574_11ea_9071_0242ac1c0002row3_col7\" class=\"data row3 col7\" >17.000000</td>\n",
              "            </tr>\n",
              "            <tr>\n",
              "                                <td id=\"T_7b7e1c44_9574_11ea_9071_0242ac1c0002row4_col0\" class=\"data row4 col0\" >73.000000</td>\n",
              "                        <td id=\"T_7b7e1c44_9574_11ea_9071_0242ac1c0002row4_col1\" class=\"data row4 col1\" >65.000000</td>\n",
              "                        <td id=\"T_7b7e1c44_9574_11ea_9071_0242ac1c0002row4_col2\" class=\"data row4 col2\" >no</td>\n",
              "                        <td id=\"T_7b7e1c44_9574_11ea_9071_0242ac1c0002row4_col3\" class=\"data row4 col3\" >Post</td>\n",
              "                        <td id=\"T_7b7e1c44_9574_11ea_9071_0242ac1c0002row4_col4\" class=\"data row4 col4\" >1.000000</td>\n",
              "                        <td id=\"T_7b7e1c44_9574_11ea_9071_0242ac1c0002row4_col5\" class=\"data row4 col5\" >26.000000</td>\n",
              "                        <td id=\"T_7b7e1c44_9574_11ea_9071_0242ac1c0002row4_col6\" class=\"data row4 col6\" >II</td>\n",
              "                        <td id=\"T_7b7e1c44_9574_11ea_9071_0242ac1c0002row4_col7\" class=\"data row4 col7\" >35.000000</td>\n",
              "            </tr>\n",
              "            <tr>\n",
              "                                <td id=\"T_7b7e1c44_9574_11ea_9071_0242ac1c0002row5_col0\" class=\"data row5 col0\" >32.000000</td>\n",
              "                        <td id=\"T_7b7e1c44_9574_11ea_9071_0242ac1c0002row5_col1\" class=\"data row5 col1\" >13.000000</td>\n",
              "                        <td id=\"T_7b7e1c44_9574_11ea_9071_0242ac1c0002row5_col2\" class=\"data row5 col2\" >no</td>\n",
              "                        <td id=\"T_7b7e1c44_9574_11ea_9071_0242ac1c0002row5_col3\" class=\"data row5 col3\" >Pre</td>\n",
              "                        <td id=\"T_7b7e1c44_9574_11ea_9071_0242ac1c0002row5_col4\" class=\"data row5 col4\" >24.000000</td>\n",
              "                        <td id=\"T_7b7e1c44_9574_11ea_9071_0242ac1c0002row5_col5\" class=\"data row5 col5\" >0.000000</td>\n",
              "                        <td id=\"T_7b7e1c44_9574_11ea_9071_0242ac1c0002row5_col6\" class=\"data row5 col6\" >III</td>\n",
              "                        <td id=\"T_7b7e1c44_9574_11ea_9071_0242ac1c0002row5_col7\" class=\"data row5 col7\" >57.000000</td>\n",
              "            </tr>\n",
              "            <tr>\n",
              "                                <td id=\"T_7b7e1c44_9574_11ea_9071_0242ac1c0002row6_col0\" class=\"data row6 col0\" >59.000000</td>\n",
              "                        <td id=\"T_7b7e1c44_9574_11ea_9071_0242ac1c0002row6_col1\" class=\"data row6 col1\" >0.000000</td>\n",
              "                        <td id=\"T_7b7e1c44_9574_11ea_9071_0242ac1c0002row6_col2\" class=\"data row6 col2\" >yes</td>\n",
              "                        <td id=\"T_7b7e1c44_9574_11ea_9071_0242ac1c0002row6_col3\" class=\"data row6 col3\" >Post</td>\n",
              "                        <td id=\"T_7b7e1c44_9574_11ea_9071_0242ac1c0002row6_col4\" class=\"data row6 col4\" >2.000000</td>\n",
              "                        <td id=\"T_7b7e1c44_9574_11ea_9071_0242ac1c0002row6_col5\" class=\"data row6 col5\" >181.000000</td>\n",
              "                        <td id=\"T_7b7e1c44_9574_11ea_9071_0242ac1c0002row6_col6\" class=\"data row6 col6\" >II</td>\n",
              "                        <td id=\"T_7b7e1c44_9574_11ea_9071_0242ac1c0002row6_col7\" class=\"data row6 col7\" >8.000000</td>\n",
              "            </tr>\n",
              "            <tr>\n",
              "                                <td id=\"T_7b7e1c44_9574_11ea_9071_0242ac1c0002row7_col0\" class=\"data row7 col0\" >65.000000</td>\n",
              "                        <td id=\"T_7b7e1c44_9574_11ea_9071_0242ac1c0002row7_col1\" class=\"data row7 col1\" >25.000000</td>\n",
              "                        <td id=\"T_7b7e1c44_9574_11ea_9071_0242ac1c0002row7_col2\" class=\"data row7 col2\" >no</td>\n",
              "                        <td id=\"T_7b7e1c44_9574_11ea_9071_0242ac1c0002row7_col3\" class=\"data row7 col3\" >Post</td>\n",
              "                        <td id=\"T_7b7e1c44_9574_11ea_9071_0242ac1c0002row7_col4\" class=\"data row7 col4\" >1.000000</td>\n",
              "                        <td id=\"T_7b7e1c44_9574_11ea_9071_0242ac1c0002row7_col5\" class=\"data row7 col5\" >192.000000</td>\n",
              "                        <td id=\"T_7b7e1c44_9574_11ea_9071_0242ac1c0002row7_col6\" class=\"data row7 col6\" >II</td>\n",
              "                        <td id=\"T_7b7e1c44_9574_11ea_9071_0242ac1c0002row7_col7\" class=\"data row7 col7\" >16.000000</td>\n",
              "            </tr>\n",
              "            <tr>\n",
              "                                <td id=\"T_7b7e1c44_9574_11ea_9071_0242ac1c0002row8_col0\" class=\"data row8 col0\" >80.000000</td>\n",
              "                        <td id=\"T_7b7e1c44_9574_11ea_9071_0242ac1c0002row8_col1\" class=\"data row8 col1\" >59.000000</td>\n",
              "                        <td id=\"T_7b7e1c44_9574_11ea_9071_0242ac1c0002row8_col2\" class=\"data row8 col2\" >no</td>\n",
              "                        <td id=\"T_7b7e1c44_9574_11ea_9071_0242ac1c0002row8_col3\" class=\"data row8 col3\" >Post</td>\n",
              "                        <td id=\"T_7b7e1c44_9574_11ea_9071_0242ac1c0002row8_col4\" class=\"data row8 col4\" >30.000000</td>\n",
              "                        <td id=\"T_7b7e1c44_9574_11ea_9071_0242ac1c0002row8_col5\" class=\"data row8 col5\" >0.000000</td>\n",
              "                        <td id=\"T_7b7e1c44_9574_11ea_9071_0242ac1c0002row8_col6\" class=\"data row8 col6\" >II</td>\n",
              "                        <td id=\"T_7b7e1c44_9574_11ea_9071_0242ac1c0002row8_col7\" class=\"data row8 col7\" >39.000000</td>\n",
              "            </tr>\n",
              "            <tr>\n",
              "                                <td id=\"T_7b7e1c44_9574_11ea_9071_0242ac1c0002row9_col0\" class=\"data row9 col0\" >66.000000</td>\n",
              "                        <td id=\"T_7b7e1c44_9574_11ea_9071_0242ac1c0002row9_col1\" class=\"data row9 col1\" >3.000000</td>\n",
              "                        <td id=\"T_7b7e1c44_9574_11ea_9071_0242ac1c0002row9_col2\" class=\"data row9 col2\" >no</td>\n",
              "                        <td id=\"T_7b7e1c44_9574_11ea_9071_0242ac1c0002row9_col3\" class=\"data row9 col3\" >Post</td>\n",
              "                        <td id=\"T_7b7e1c44_9574_11ea_9071_0242ac1c0002row9_col4\" class=\"data row9 col4\" >7.000000</td>\n",
              "                        <td id=\"T_7b7e1c44_9574_11ea_9071_0242ac1c0002row9_col5\" class=\"data row9 col5\" >0.000000</td>\n",
              "                        <td id=\"T_7b7e1c44_9574_11ea_9071_0242ac1c0002row9_col6\" class=\"data row9 col6\" >II</td>\n",
              "                        <td id=\"T_7b7e1c44_9574_11ea_9071_0242ac1c0002row9_col7\" class=\"data row9 col7\" >18.000000</td>\n",
              "            </tr>\n",
              "    </tbody></table>"
            ],
            "text/plain": [
              "<pandas.io.formats.style.Styler at 0x7f4ab047b9e8>"
            ]
          },
          "metadata": {
            "tags": []
          },
          "execution_count": 4
        }
      ]
    },
    {
      "cell_type": "markdown",
      "metadata": {
        "id": "zcMjHeAEb2n_",
        "colab_type": "text"
      },
      "source": [
        "Let's take a look at the output."
      ]
    },
    {
      "cell_type": "code",
      "metadata": {
        "colab_type": "code",
        "id": "h8ltRTa4_WOn",
        "outputId": "da29fd74-07e0-4c1b-9b96-78fdaed6e7ae",
        "scrolled": true,
        "colab": {
          "base_uri": "https://localhost:8080/",
          "height": 88
        }
      },
      "source": [
        "y[:10]"
      ],
      "execution_count": 5,
      "outputs": [
        {
          "output_type": "execute_result",
          "data": {
            "text/plain": [
              "array([( True, 1814.), ( True, 2018.), ( True,  712.), ( True, 1807.),\n",
              "       ( True,  772.), ( True,  448.), (False, 2172.), (False, 2161.),\n",
              "       ( True,  471.), (False, 2014.)],\n",
              "      dtype=[('cens', '?'), ('time', '<f8')])"
            ]
          },
          "metadata": {
            "tags": []
          },
          "execution_count": 5
        }
      ]
    },
    {
      "cell_type": "markdown",
      "metadata": {
        "id": "A5NXlNYob2oH",
        "colab_type": "text"
      },
      "source": [
        "For the output, scikit-survival uses a numpy nd array, so to show it we do a dataframe."
      ]
    },
    {
      "cell_type": "code",
      "metadata": {
        "colab_type": "code",
        "id": "psFuJmxA_i_S",
        "outputId": "97cf5fbb-4ff4-467e-9178-88b98dd08b50",
        "colab": {
          "base_uri": "https://localhost:8080/",
          "height": 254
        }
      },
      "source": [
        "df_y = pd.DataFrame(data={'time': [y[i][1] for i in range(len(y))], 'event': [y[i][0] for i in range(len(y))]})\n",
        "df_y[:10].style.hide_index().highlight_min('event', color='lightgreen')"
      ],
      "execution_count": 6,
      "outputs": [
        {
          "output_type": "execute_result",
          "data": {
            "text/html": [
              "<style  type=\"text/css\" >\n",
              "    #T_7b8516a2_9574_11ea_9071_0242ac1c0002row6_col1 {\n",
              "            background-color:  lightgreen;\n",
              "        }    #T_7b8516a2_9574_11ea_9071_0242ac1c0002row7_col1 {\n",
              "            background-color:  lightgreen;\n",
              "        }    #T_7b8516a2_9574_11ea_9071_0242ac1c0002row9_col1 {\n",
              "            background-color:  lightgreen;\n",
              "        }</style><table id=\"T_7b8516a2_9574_11ea_9071_0242ac1c0002\" ><thead>    <tr>        <th class=\"col_heading level0 col0\" >time</th>        <th class=\"col_heading level0 col1\" >event</th>    </tr></thead><tbody>\n",
              "                <tr>\n",
              "                                <td id=\"T_7b8516a2_9574_11ea_9071_0242ac1c0002row0_col0\" class=\"data row0 col0\" >1814.000000</td>\n",
              "                        <td id=\"T_7b8516a2_9574_11ea_9071_0242ac1c0002row0_col1\" class=\"data row0 col1\" >True</td>\n",
              "            </tr>\n",
              "            <tr>\n",
              "                                <td id=\"T_7b8516a2_9574_11ea_9071_0242ac1c0002row1_col0\" class=\"data row1 col0\" >2018.000000</td>\n",
              "                        <td id=\"T_7b8516a2_9574_11ea_9071_0242ac1c0002row1_col1\" class=\"data row1 col1\" >True</td>\n",
              "            </tr>\n",
              "            <tr>\n",
              "                                <td id=\"T_7b8516a2_9574_11ea_9071_0242ac1c0002row2_col0\" class=\"data row2 col0\" >712.000000</td>\n",
              "                        <td id=\"T_7b8516a2_9574_11ea_9071_0242ac1c0002row2_col1\" class=\"data row2 col1\" >True</td>\n",
              "            </tr>\n",
              "            <tr>\n",
              "                                <td id=\"T_7b8516a2_9574_11ea_9071_0242ac1c0002row3_col0\" class=\"data row3 col0\" >1807.000000</td>\n",
              "                        <td id=\"T_7b8516a2_9574_11ea_9071_0242ac1c0002row3_col1\" class=\"data row3 col1\" >True</td>\n",
              "            </tr>\n",
              "            <tr>\n",
              "                                <td id=\"T_7b8516a2_9574_11ea_9071_0242ac1c0002row4_col0\" class=\"data row4 col0\" >772.000000</td>\n",
              "                        <td id=\"T_7b8516a2_9574_11ea_9071_0242ac1c0002row4_col1\" class=\"data row4 col1\" >True</td>\n",
              "            </tr>\n",
              "            <tr>\n",
              "                                <td id=\"T_7b8516a2_9574_11ea_9071_0242ac1c0002row5_col0\" class=\"data row5 col0\" >448.000000</td>\n",
              "                        <td id=\"T_7b8516a2_9574_11ea_9071_0242ac1c0002row5_col1\" class=\"data row5 col1\" >True</td>\n",
              "            </tr>\n",
              "            <tr>\n",
              "                                <td id=\"T_7b8516a2_9574_11ea_9071_0242ac1c0002row6_col0\" class=\"data row6 col0\" >2172.000000</td>\n",
              "                        <td id=\"T_7b8516a2_9574_11ea_9071_0242ac1c0002row6_col1\" class=\"data row6 col1\" >False</td>\n",
              "            </tr>\n",
              "            <tr>\n",
              "                                <td id=\"T_7b8516a2_9574_11ea_9071_0242ac1c0002row7_col0\" class=\"data row7 col0\" >2161.000000</td>\n",
              "                        <td id=\"T_7b8516a2_9574_11ea_9071_0242ac1c0002row7_col1\" class=\"data row7 col1\" >False</td>\n",
              "            </tr>\n",
              "            <tr>\n",
              "                                <td id=\"T_7b8516a2_9574_11ea_9071_0242ac1c0002row8_col0\" class=\"data row8 col0\" >471.000000</td>\n",
              "                        <td id=\"T_7b8516a2_9574_11ea_9071_0242ac1c0002row8_col1\" class=\"data row8 col1\" >True</td>\n",
              "            </tr>\n",
              "            <tr>\n",
              "                                <td id=\"T_7b8516a2_9574_11ea_9071_0242ac1c0002row9_col0\" class=\"data row9 col0\" >2014.000000</td>\n",
              "                        <td id=\"T_7b8516a2_9574_11ea_9071_0242ac1c0002row9_col1\" class=\"data row9 col1\" >False</td>\n",
              "            </tr>\n",
              "    </tbody></table>"
            ],
            "text/plain": [
              "<pandas.io.formats.style.Styler at 0x7f4ab0127f98>"
            ]
          },
          "metadata": {
            "tags": []
          },
          "execution_count": 6
        }
      ]
    },
    {
      "cell_type": "markdown",
      "metadata": {
        "id": "xzW5x7ljb2oP",
        "colab_type": "text"
      },
      "source": [
        "One of the main challenges of survival analysis is **right censoring**, i.e., by the end of the study, the event of interest (for example, in medicine 'death of a patient' or in this dataset 'recurrence of cancer') has only occurred for a subset of the observations.\n",
        "\n",
        "The **right censoring** in this dataset is given by the column named 'event' and it's a variable which can take value 'True' if the patient had a recurrence of cancer or 'False' if the patient is recurrence free at the indicated time (right-censored samples)."
      ]
    },
    {
      "cell_type": "markdown",
      "metadata": {
        "id": "VmfAR7igb2oW",
        "colab_type": "text"
      },
      "source": [
        "Let's see how many right-censored samples do we have."
      ]
    },
    {
      "cell_type": "code",
      "metadata": {
        "colab_type": "code",
        "id": "rzS8h1GG_o_A",
        "outputId": "acc4aca1-089e-4644-e7bb-a25e53576c5d",
        "colab": {
          "base_uri": "https://localhost:8080/",
          "height": 70
        }
      },
      "source": [
        "print(f'Number of samples: {len(df_y)}')\n",
        "print(f'Number of right censored samples: {len(df_y.query(\"event == False\"))}')\n",
        "print(f'Percentage of right censored samples: {100*len(df_y.query(\"event == False\"))/len(df_y):.1f}%')"
      ],
      "execution_count": 7,
      "outputs": [
        {
          "output_type": "stream",
          "text": [
            "Number of samples: 686\n",
            "Number of right censored samples: 387\n",
            "Percentage of right censored samples: 56.4%\n"
          ],
          "name": "stdout"
        }
      ]
    },
    {
      "cell_type": "markdown",
      "metadata": {
        "colab_type": "text",
        "id": "VtsENFsnQhZx"
      },
      "source": [
        "There are 387 patients (56.4%) who were right censored (recurrence free) at the end of the study.\n",
        "\n",
        "Let's divide our dataset in training and test sets."
      ]
    },
    {
      "cell_type": "code",
      "metadata": {
        "colab_type": "code",
        "id": "duYhddUr_1nH",
        "outputId": "bc6b7083-c22c-49c6-a159-81df10a17eba",
        "colab": {
          "base_uri": "https://localhost:8080/",
          "height": 52
        }
      },
      "source": [
        "from sklearn.model_selection import train_test_split\n",
        "\n",
        "X_trn, X_test, y_trn, y_test = train_test_split(X, y, random_state=42)\n",
        "\n",
        "print(f'Number of training samples: {len(y_trn)}')\n",
        "print(f'Number of test samples: {len(y_test)}')"
      ],
      "execution_count": 8,
      "outputs": [
        {
          "output_type": "stream",
          "text": [
            "Number of training samples: 514\n",
            "Number of test samples: 172\n"
          ],
          "name": "stdout"
        }
      ]
    },
    {
      "cell_type": "markdown",
      "metadata": {
        "id": "3VEOV-vWb2ow",
        "colab_type": "text"
      },
      "source": [
        "We divide the features/covariates into continuous and categorical."
      ]
    },
    {
      "cell_type": "code",
      "metadata": {
        "colab_type": "code",
        "id": "R1UVhukR_8VA",
        "colab": {}
      },
      "source": [
        "scaling_cols = [c for c in X.columns if X[c].dtype.kind in ['i', 'f']]\n",
        "cat_cols = [c for c in X.columns if X[c].dtype.kind not in [\"i\", \"f\"]]"
      ],
      "execution_count": 0,
      "outputs": []
    },
    {
      "cell_type": "markdown",
      "metadata": {
        "id": "jDjgk9PWb2o3",
        "colab_type": "text"
      },
      "source": [
        "We use ordinal encoding for categorical features/covariates and standard scaling for continuous features/covariates."
      ]
    },
    {
      "cell_type": "code",
      "metadata": {
        "colab_type": "code",
        "id": "axfu8RQeACQx",
        "colab": {}
      },
      "source": [
        "from sklearn.compose import ColumnTransformer\n",
        "from sklearn.preprocessing import OrdinalEncoder\n",
        "from sklearn.preprocessing import StandardScaler\n",
        "\n",
        "preprocessor = ColumnTransformer(\n",
        "    [('cat-preprocessor', OrdinalEncoder(), cat_cols),\n",
        "    ('standard-scaler', StandardScaler(), scaling_cols)],\n",
        "    remainder='passthrough', sparse_threshold=0)"
      ],
      "execution_count": 0,
      "outputs": []
    },
    {
      "cell_type": "markdown",
      "metadata": {
        "id": "N_nodxlEb2o-",
        "colab_type": "text"
      },
      "source": [
        "# Baseline: Cox Proportional Hazards model"
      ]
    },
    {
      "cell_type": "markdown",
      "metadata": {
        "id": "KqdChwYJb2o_",
        "colab_type": "text"
      },
      "source": [
        "Cox Proportional Hazards model assumes that the log-hazard of a subject is a linear function of their $m$ static covariates/features $h_i, i\\in\\{1,\\ldots,m\\}$, and a population-level baseline hazard function $h_0(t)$ that changes over time:\n",
        "\\begin{equation}\n",
        "h(t|x)=h_0(t)\\exp\\left(\\sum_{i=1}^mh_i(x_i-\\bar{x_i})\\right).\n",
        "\\end{equation}\n",
        "\n",
        "The term *proportional hazards* refers to the assumption of a constant relationship between the dependent variable and the regression coefficients."
      ]
    },
    {
      "cell_type": "code",
      "metadata": {
        "colab_type": "code",
        "id": "77YbwMKvAFHQ",
        "outputId": "1b276e40-ece3-4816-aa23-05306e841a85",
        "colab": {
          "base_uri": "https://localhost:8080/",
          "height": 35
        }
      },
      "source": [
        "from sklearn.pipeline import make_pipeline\n",
        "from sksurv.linear_model import CoxPHSurvivalAnalysis\n",
        "from sksurv.metrics import concordance_index_censored\n",
        "\n",
        "cox = make_pipeline(preprocessor, CoxPHSurvivalAnalysis())\n",
        "cox.fit(X_trn, y_trn)\n",
        "\n",
        "ci_cox = concordance_index_censored(y_test[\"cens\"], y_test[\"time\"], cox.predict(X_test))\n",
        "print(f'The c-index of Cox is given by {ci_cox[0]:.3f}')"
      ],
      "execution_count": 11,
      "outputs": [
        {
          "output_type": "stream",
          "text": [
            "The c-index of Cox is given by 0.635\n"
          ],
          "name": "stdout"
        }
      ]
    },
    {
      "cell_type": "code",
      "metadata": {
        "colab_type": "code",
        "id": "ZNHQ-bkWALNy",
        "outputId": "7e2e36b1-305e-475b-b7e7-7657bc5f5d32",
        "colab": {
          "base_uri": "https://localhost:8080/",
          "height": 52
        }
      },
      "source": [
        "from scipy.stats import reciprocal\n",
        "from sklearn.model_selection import RandomizedSearchCV\n",
        "\n",
        "param_distributions = {\n",
        "    'coxphsurvivalanalysis__alpha': reciprocal(0.1, 100),\n",
        "}\n",
        "\n",
        "model_random_search = RandomizedSearchCV(\n",
        "    cox, param_distributions=param_distributions, n_iter=50, n_jobs=-1, cv=3, random_state=42)\n",
        "model_random_search.fit(X_trn, y_trn)\n",
        "\n",
        "print(\n",
        "    f\"The c-index of Cox using a {model_random_search.__class__.__name__} is \"\n",
        "    f\"{model_random_search.score(X_test, y_test):.3f}\")\n",
        "print(\n",
        "    f\"The best set of parameters is: {model_random_search.best_params_}\"\n",
        ")"
      ],
      "execution_count": 12,
      "outputs": [
        {
          "output_type": "stream",
          "text": [
            "The c-index of Cox using a RandomizedSearchCV is 0.646\n",
            "The best set of parameters is: {'coxphsurvivalanalysis__alpha': 31.428808908401084}\n"
          ],
          "name": "stdout"
        }
      ]
    },
    {
      "cell_type": "code",
      "metadata": {
        "colab_type": "code",
        "id": "MrhAveCQAdxF",
        "outputId": "a96abfcd-3ac0-497b-f3ce-d64e6ab40af8",
        "colab": {
          "base_uri": "https://localhost:8080/",
          "height": 35
        }
      },
      "source": [
        "alpha = model_random_search.best_params_['coxphsurvivalanalysis__alpha']\n",
        "cox_best = make_pipeline(preprocessor, CoxPHSurvivalAnalysis(alpha=alpha))\n",
        "cox_best.fit(X_trn, y_trn)\n",
        "\n",
        "ci_cox = concordance_index_censored(y_test[\"cens\"], y_test[\"time\"], cox_best.predict(X_test))\n",
        "print(f'The c-index of Cox is given by {ci_cox[0]:.3f}')"
      ],
      "execution_count": 13,
      "outputs": [
        {
          "output_type": "stream",
          "text": [
            "The c-index of Cox is given by 0.646\n"
          ],
          "name": "stdout"
        }
      ]
    },
    {
      "cell_type": "code",
      "metadata": {
        "id": "WArdzxG0cZ5d",
        "colab_type": "code",
        "colab": {
          "base_uri": "https://localhost:8080/",
          "height": 35
        },
        "outputId": "88b1036f-9da9-444f-9df3-430209680d50"
      },
      "source": [
        "!pip install -q eli5"
      ],
      "execution_count": 14,
      "outputs": [
        {
          "output_type": "stream",
          "text": [
            "\u001b[?25l\r\u001b[K     |███                             | 10kB 23.6MB/s eta 0:00:01\r\u001b[K     |██████▏                         | 20kB 1.5MB/s eta 0:00:01\r\u001b[K     |█████████▎                      | 30kB 2.0MB/s eta 0:00:01\r\u001b[K     |████████████▍                   | 40kB 1.5MB/s eta 0:00:01\r\u001b[K     |███████████████▌                | 51kB 1.8MB/s eta 0:00:01\r\u001b[K     |██████████████████▋             | 61kB 2.1MB/s eta 0:00:01\r\u001b[K     |█████████████████████▊          | 71kB 2.2MB/s eta 0:00:01\r\u001b[K     |████████████████████████▊       | 81kB 2.4MB/s eta 0:00:01\r\u001b[K     |███████████████████████████▉    | 92kB 2.7MB/s eta 0:00:01\r\u001b[K     |███████████████████████████████ | 102kB 2.5MB/s eta 0:00:01\r\u001b[K     |████████████████████████████████| 112kB 2.5MB/s \n",
            "\u001b[?25h"
          ],
          "name": "stdout"
        }
      ]
    },
    {
      "cell_type": "code",
      "metadata": {
        "colab_type": "code",
        "id": "Oy3whfxOAlzN",
        "outputId": "f1add9ad-9a12-4ef2-aa34-71e66934706b",
        "colab": {
          "base_uri": "https://localhost:8080/",
          "height": 125
        }
      },
      "source": [
        "from eli5.sklearn import PermutationImportance"
      ],
      "execution_count": 15,
      "outputs": [
        {
          "output_type": "stream",
          "text": [
            "/usr/local/lib/python3.6/dist-packages/sklearn/utils/deprecation.py:144: FutureWarning: The sklearn.metrics.scorer module is  deprecated in version 0.22 and will be removed in version 0.24. The corresponding classes / functions should instead be imported from sklearn.metrics. Anything that cannot be imported from sklearn.metrics is now part of the private API.\n",
            "  warnings.warn(message, FutureWarning)\n",
            "/usr/local/lib/python3.6/dist-packages/sklearn/utils/deprecation.py:144: FutureWarning: The sklearn.feature_selection.base module is  deprecated in version 0.22 and will be removed in version 0.24. The corresponding classes / functions should instead be imported from sklearn.feature_selection. Anything that cannot be imported from sklearn.feature_selection is now part of the private API.\n",
            "  warnings.warn(message, FutureWarning)\n",
            "Using TensorFlow backend.\n"
          ],
          "name": "stderr"
        }
      ]
    },
    {
      "cell_type": "code",
      "metadata": {
        "colab_type": "code",
        "id": "j2wH_sxgBX1-",
        "colab": {}
      },
      "source": [
        "perm = PermutationImportance(\n",
        "    cox_best.steps[-1][1], n_iter=100, random_state=42).fit(preprocessor.fit_transform(X_trn),y_trn)"
      ],
      "execution_count": 0,
      "outputs": []
    },
    {
      "cell_type": "code",
      "metadata": {
        "colab_type": "code",
        "id": "1Rdepqh18UDV",
        "colab": {}
      },
      "source": [
        "data = perm.results_\n",
        "data = pd.DataFrame(data, columns=X_trn.columns)\n",
        "meds = data.median()\n",
        "meds = meds.sort_values(ascending=False)\n",
        "data = data[meds.index]"
      ],
      "execution_count": 0,
      "outputs": []
    },
    {
      "cell_type": "code",
      "metadata": {
        "colab_type": "code",
        "id": "PaPRs7hR9QL5",
        "outputId": "732746ac-48f7-40a6-fef3-74cfb280e77c",
        "colab": {
          "base_uri": "https://localhost:8080/",
          "height": 444
        }
      },
      "source": [
        "fig, ax = plt.subplots(figsize=(10,7))\n",
        "data.boxplot(ax=ax)\n",
        "ax.set_title('Feature Importances')\n",
        "plt.show()"
      ],
      "execution_count": 39,
      "outputs": [
        {
          "output_type": "display_data",
          "data": {
            "image/png": "[encoded data removed]",
            "text/plain": [
              "<Figure size 720x504 with 1 Axes>"
            ]
          },
          "metadata": {
            "tags": [],
            "needs_background": "light"
          }
        }
      ]
    },
    {
      "cell_type": "code",
      "metadata": {
        "colab_type": "code",
        "id": "IjDH0p1dBuyV",
        "outputId": "96dc1ead-3474-4bcc-c930-0e62dbb0ac8d",
        "scrolled": true,
        "colab": {
          "base_uri": "https://localhost:8080/",
          "height": 173
        }
      },
      "source": [
        "import eli5\n",
        "eli5.show_weights(perm, feature_names = X.columns.tolist())"
      ],
      "execution_count": 19,
      "outputs": [
        {
          "output_type": "execute_result",
          "data": {
            "text/html": [
              "\n",
              "    <style>\n",
              "    table.eli5-weights tr:hover {\n",
              "        filter: brightness(85%);\n",
              "    }\n",
              "</style>\n",
              "\n",
              "\n",
              "\n",
              "    \n",
              "\n",
              "    \n",
              "\n",
              "    \n",
              "\n",
              "    \n",
              "\n",
              "    \n",
              "\n",
              "    \n",
              "\n",
              "\n",
              "    \n",
              "\n",
              "    \n",
              "\n",
              "    \n",
              "\n",
              "    \n",
              "\n",
              "    \n",
              "\n",
              "    \n",
              "\n",
              "\n",
              "    \n",
              "\n",
              "    \n",
              "\n",
              "    \n",
              "\n",
              "    \n",
              "\n",
              "    \n",
              "        <table class=\"eli5-weights eli5-feature-importances\" style=\"border-collapse: collapse; border: none; margin-top: 0em; table-layout: auto;\">\n",
              "    <thead>\n",
              "    <tr style=\"border: none;\">\n",
              "        <th style=\"padding: 0 1em 0 0.5em; text-align: right; border: none;\">Weight</th>\n",
              "        <th style=\"padding: 0 0.5em 0 0.5em; text-align: left; border: none;\">Feature</th>\n",
              "    </tr>\n",
              "    </thead>\n",
              "    <tbody>\n",
              "    \n",
              "        <tr style=\"background-color: hsl(120, 100.00%, 80.00%); border: none;\">\n",
              "            <td style=\"padding: 0 1em 0 0.5em; text-align: right; border: none;\">\n",
              "                0.0672\n",
              "                \n",
              "                    &plusmn; 0.0257\n",
              "                \n",
              "            </td>\n",
              "            <td style=\"padding: 0 0.5em 0 0.5em; text-align: left; border: none;\">\n",
              "                tgrade\n",
              "            </td>\n",
              "        </tr>\n",
              "    \n",
              "        <tr style=\"background-color: hsl(120, 100.00%, 80.76%); border: none;\">\n",
              "            <td style=\"padding: 0 1em 0 0.5em; text-align: right; border: none;\">\n",
              "                0.0636\n",
              "                \n",
              "                    &plusmn; 0.0238\n",
              "                \n",
              "            </td>\n",
              "            <td style=\"padding: 0 0.5em 0 0.5em; text-align: left; border: none;\">\n",
              "                progrec\n",
              "            </td>\n",
              "        </tr>\n",
              "    \n",
              "        <tr style=\"background-color: hsl(120, 100.00%, 92.86%); border: none;\">\n",
              "            <td style=\"padding: 0 1em 0 0.5em; text-align: right; border: none;\">\n",
              "                0.0154\n",
              "                \n",
              "                    &plusmn; 0.0146\n",
              "                \n",
              "            </td>\n",
              "            <td style=\"padding: 0 0.5em 0 0.5em; text-align: left; border: none;\">\n",
              "                horTh\n",
              "            </td>\n",
              "        </tr>\n",
              "    \n",
              "        <tr style=\"background-color: hsl(120, 100.00%, 93.24%); border: none;\">\n",
              "            <td style=\"padding: 0 1em 0 0.5em; text-align: right; border: none;\">\n",
              "                0.0143\n",
              "                \n",
              "                    &plusmn; 0.0107\n",
              "                \n",
              "            </td>\n",
              "            <td style=\"padding: 0 0.5em 0 0.5em; text-align: left; border: none;\">\n",
              "                menostat\n",
              "            </td>\n",
              "        </tr>\n",
              "    \n",
              "        <tr style=\"background-color: hsl(120, 100.00%, 96.15%); border: none;\">\n",
              "            <td style=\"padding: 0 1em 0 0.5em; text-align: right; border: none;\">\n",
              "                0.0064\n",
              "                \n",
              "                    &plusmn; 0.0087\n",
              "                \n",
              "            </td>\n",
              "            <td style=\"padding: 0 0.5em 0 0.5em; text-align: left; border: none;\">\n",
              "                age\n",
              "            </td>\n",
              "        </tr>\n",
              "    \n",
              "        <tr style=\"background-color: hsl(120, 100.00%, 96.35%); border: none;\">\n",
              "            <td style=\"padding: 0 1em 0 0.5em; text-align: right; border: none;\">\n",
              "                0.0059\n",
              "                \n",
              "                    &plusmn; 0.0068\n",
              "                \n",
              "            </td>\n",
              "            <td style=\"padding: 0 0.5em 0 0.5em; text-align: left; border: none;\">\n",
              "                tsize\n",
              "            </td>\n",
              "        </tr>\n",
              "    \n",
              "        <tr style=\"background-color: hsl(120, 100.00%, 97.29%); border: none;\">\n",
              "            <td style=\"padding: 0 1em 0 0.5em; text-align: right; border: none;\">\n",
              "                0.0039\n",
              "                \n",
              "                    &plusmn; 0.0042\n",
              "                \n",
              "            </td>\n",
              "            <td style=\"padding: 0 0.5em 0 0.5em; text-align: left; border: none;\">\n",
              "                pnodes\n",
              "            </td>\n",
              "        </tr>\n",
              "    \n",
              "        <tr style=\"background-color: hsl(120, 100.00%, 99.30%); border: none;\">\n",
              "            <td style=\"padding: 0 1em 0 0.5em; text-align: right; border: none;\">\n",
              "                0.0006\n",
              "                \n",
              "                    &plusmn; 0.0017\n",
              "                \n",
              "            </td>\n",
              "            <td style=\"padding: 0 0.5em 0 0.5em; text-align: left; border: none;\">\n",
              "                estrec\n",
              "            </td>\n",
              "        </tr>\n",
              "    \n",
              "    \n",
              "    </tbody>\n",
              "</table>\n",
              "    \n",
              "\n",
              "    \n",
              "\n",
              "\n",
              "    \n",
              "\n",
              "    \n",
              "\n",
              "    \n",
              "\n",
              "    \n",
              "\n",
              "    \n",
              "\n",
              "    \n",
              "\n",
              "\n",
              "\n"
            ],
            "text/plain": [
              "<IPython.core.display.HTML object>"
            ]
          },
          "metadata": {
            "tags": []
          },
          "execution_count": 19
        }
      ]
    },
    {
      "cell_type": "markdown",
      "metadata": {
        "id": "uPIJaDuab2pp",
        "colab_type": "text"
      },
      "source": [
        "# Random Survival Forest model"
      ]
    },
    {
      "cell_type": "markdown",
      "metadata": {
        "id": "1zb0n6n4b2pp",
        "colab_type": "text"
      },
      "source": [
        "The random survival forest model, proposed by Ishwaran et al. (2008), is an extension of the random forest model, introduced by Breiman et al. (2001), that can take into account censoring. The randomness is introduced in two ways, first we use bootstrap samples of the dataset to grow the trees and second, at each node of the tree, we randomly choose a subset of variables as candidates for the split. The quality of a split is measured by the log-rank splitting rule. Then, we average the trees results which allows us to improve the accuracy and avoid overfitting."
      ]
    },
    {
      "cell_type": "code",
      "metadata": {
        "colab_type": "code",
        "id": "gCVwkQmU5fSp",
        "outputId": "daec4f4e-72f5-440e-c589-8e647fe2e330",
        "colab": {
          "base_uri": "https://localhost:8080/",
          "height": 35
        }
      },
      "source": [
        "from sksurv.ensemble import RandomSurvivalForest\n",
        "\n",
        "rsf = make_pipeline(preprocessor, RandomSurvivalForest(random_state=42))\n",
        "rsf.fit(X_trn, y_trn)\n",
        "ci_rsf = concordance_index_censored(y_test[\"cens\"], y_test[\"time\"], rsf.predict(X_test))\n",
        "print(f'The c-index of Random Survival Forest is given by {ci_rsf[0]:.3f}')"
      ],
      "execution_count": 20,
      "outputs": [
        {
          "output_type": "stream",
          "text": [
            "The c-index of Random Survival Forest is given by 0.658\n"
          ],
          "name": "stdout"
        }
      ]
    },
    {
      "cell_type": "code",
      "metadata": {
        "colab_type": "code",
        "id": "WeyeCxd1-12x",
        "outputId": "d3cba62d-07b2-4a2a-d7ce-3b3070433394",
        "colab": {
          "base_uri": "https://localhost:8080/",
          "height": 52
        }
      },
      "source": [
        "from scipy.stats import reciprocal\n",
        "from sklearn.model_selection import RandomizedSearchCV\n",
        "\n",
        "class reciprocal_int:\n",
        "    def __init__(self, a, b):\n",
        "        self._distribution = reciprocal(a, b)\n",
        "\n",
        "    def rvs(self, *args, **kwargs):\n",
        "        return self._distribution.rvs(*args, **kwargs).astype(int)\n",
        "\n",
        "param_distributions1 = {\n",
        "    'randomsurvivalforest__max_features': reciprocal_int(3, 8),\n",
        "    'randomsurvivalforest__max_depth': reciprocal_int(5, 50),\n",
        "    'randomsurvivalforest__min_samples_leaf': reciprocal_int(1, 40),\n",
        "}\n",
        "\n",
        "model_random_search = RandomizedSearchCV(\n",
        "    rsf, param_distributions=param_distributions1, n_iter=50, n_jobs=-1, cv=3, random_state=0)\n",
        "model_random_search.fit(X_trn, y_trn)\n",
        "\n",
        "print(\n",
        "    f\"The c-index of random survival forest using a {model_random_search.__class__.__name__} is \"\n",
        "    f\"{model_random_search.score(X_test, y_test):.3f}\")\n",
        "print(\n",
        "    f\"The best set of parameters is: {model_random_search.best_params_}\"\n",
        ")"
      ],
      "execution_count": 21,
      "outputs": [
        {
          "output_type": "stream",
          "text": [
            "The c-index of random survival forest using a RandomizedSearchCV is 0.640\n",
            "The best set of parameters is: {'randomsurvivalforest__max_depth': 23, 'randomsurvivalforest__max_features': 3, 'randomsurvivalforest__min_samples_leaf': 1}\n"
          ],
          "name": "stdout"
        }
      ]
    },
    {
      "cell_type": "code",
      "metadata": {
        "colab_type": "code",
        "id": "BEBio-THEX9j",
        "colab": {}
      },
      "source": [
        "max_depth = model_random_search.best_params_['randomsurvivalforest__max_depth']\n",
        "max_features = model_random_search.best_params_['randomsurvivalforest__max_features']\n",
        "min_samples_leaf = model_random_search.best_params_['randomsurvivalforest__min_samples_leaf']"
      ],
      "execution_count": 0,
      "outputs": []
    },
    {
      "cell_type": "code",
      "metadata": {
        "colab_type": "code",
        "id": "7W6p8DpyGCuK",
        "outputId": "0ddaeaab-9916-4d0f-8ede-3a298545c8a6",
        "colab": {
          "base_uri": "https://localhost:8080/",
          "height": 35
        }
      },
      "source": [
        "rsf_best = make_pipeline(preprocessor, RandomSurvivalForest(random_state=42, max_depth=max_depth, max_features=max_features, min_samples_leaf=min_samples_leaf))\n",
        "rsf_best.fit(X_trn, y_trn)\n",
        "ci_rsf = concordance_index_censored(y_test[\"cens\"], y_test[\"time\"], rsf_best.predict(X_test))\n",
        "print(f'The c-index of Random Survival Forest is given by {ci_rsf[0]:.3f}')"
      ],
      "execution_count": 23,
      "outputs": [
        {
          "output_type": "stream",
          "text": [
            "The c-index of Random Survival Forest is given by 0.640\n"
          ],
          "name": "stdout"
        }
      ]
    },
    {
      "cell_type": "code",
      "metadata": {
        "colab_type": "code",
        "id": "pzsLKvj5EJ5B",
        "colab": {}
      },
      "source": [
        "perm = PermutationImportance(\n",
        "    rsf.steps[-1][1], n_iter=100, random_state=42).fit(preprocessor.fit_transform(X_trn),y_trn)"
      ],
      "execution_count": 0,
      "outputs": []
    },
    {
      "cell_type": "code",
      "metadata": {
        "colab_type": "code",
        "id": "T7VgksvkGe8u",
        "colab": {}
      },
      "source": [
        "data = perm.results_\n",
        "data = pd.DataFrame(data, columns=X_trn.columns)\n",
        "meds = data.median()\n",
        "meds = meds.sort_values(ascending=False)\n",
        "data = data[meds.index]"
      ],
      "execution_count": 0,
      "outputs": []
    },
    {
      "cell_type": "code",
      "metadata": {
        "colab_type": "code",
        "id": "PsoXcbNsG2yo",
        "outputId": "fac6ec3f-3c34-423b-978b-5c305a3aa220",
        "colab": {
          "base_uri": "https://localhost:8080/",
          "height": 444
        }
      },
      "source": [
        "fig, ax = plt.subplots(figsize=(10,7))\n",
        "data.boxplot(ax=ax)\n",
        "ax.set_title('Feature Importances')\n",
        "plt.show()"
      ],
      "execution_count": 36,
      "outputs": [
        {
          "output_type": "display_data",
          "data": {
            "image/png": "[encoded data removed]",
            "text/plain": [
              "<Figure size 720x504 with 1 Axes>"
            ]
          },
          "metadata": {
            "tags": [],
            "needs_background": "light"
          }
        }
      ]
    },
    {
      "cell_type": "code",
      "metadata": {
        "colab_type": "code",
        "id": "MQNLJXlsG6ou",
        "outputId": "fb5ba0e7-4d40-477a-8926-596f1f49fe1e",
        "colab": {
          "base_uri": "https://localhost:8080/",
          "height": 173
        }
      },
      "source": [
        "eli5.show_weights(perm, feature_names = X.columns.tolist())"
      ],
      "execution_count": 27,
      "outputs": [
        {
          "output_type": "execute_result",
          "data": {
            "text/html": [
              "\n",
              "    <style>\n",
              "    table.eli5-weights tr:hover {\n",
              "        filter: brightness(85%);\n",
              "    }\n",
              "</style>\n",
              "\n",
              "\n",
              "\n",
              "    \n",
              "\n",
              "    \n",
              "\n",
              "    \n",
              "\n",
              "    \n",
              "\n",
              "    \n",
              "\n",
              "    \n",
              "\n",
              "\n",
              "    \n",
              "\n",
              "    \n",
              "\n",
              "    \n",
              "\n",
              "    \n",
              "\n",
              "    \n",
              "\n",
              "    \n",
              "\n",
              "\n",
              "    \n",
              "\n",
              "    \n",
              "\n",
              "    \n",
              "\n",
              "    \n",
              "\n",
              "    \n",
              "        <table class=\"eli5-weights eli5-feature-importances\" style=\"border-collapse: collapse; border: none; margin-top: 0em; table-layout: auto;\">\n",
              "    <thead>\n",
              "    <tr style=\"border: none;\">\n",
              "        <th style=\"padding: 0 1em 0 0.5em; text-align: right; border: none;\">Weight</th>\n",
              "        <th style=\"padding: 0 0.5em 0 0.5em; text-align: left; border: none;\">Feature</th>\n",
              "    </tr>\n",
              "    </thead>\n",
              "    <tbody>\n",
              "    \n",
              "        <tr style=\"background-color: hsl(120, 100.00%, 80.00%); border: none;\">\n",
              "            <td style=\"padding: 0 1em 0 0.5em; text-align: right; border: none;\">\n",
              "                0.1252\n",
              "                \n",
              "                    &plusmn; 0.0205\n",
              "                \n",
              "            </td>\n",
              "            <td style=\"padding: 0 0.5em 0 0.5em; text-align: left; border: none;\">\n",
              "                progrec\n",
              "            </td>\n",
              "        </tr>\n",
              "    \n",
              "        <tr style=\"background-color: hsl(120, 100.00%, 81.13%); border: none;\">\n",
              "            <td style=\"padding: 0 1em 0 0.5em; text-align: right; border: none;\">\n",
              "                0.1152\n",
              "                \n",
              "                    &plusmn; 0.0203\n",
              "                \n",
              "            </td>\n",
              "            <td style=\"padding: 0 0.5em 0 0.5em; text-align: left; border: none;\">\n",
              "                tgrade\n",
              "            </td>\n",
              "        </tr>\n",
              "    \n",
              "        <tr style=\"background-color: hsl(120, 100.00%, 86.54%); border: none;\">\n",
              "            <td style=\"padding: 0 1em 0 0.5em; text-align: right; border: none;\">\n",
              "                0.0711\n",
              "                \n",
              "                    &plusmn; 0.0092\n",
              "                \n",
              "            </td>\n",
              "            <td style=\"padding: 0 0.5em 0 0.5em; text-align: left; border: none;\">\n",
              "                pnodes\n",
              "            </td>\n",
              "        </tr>\n",
              "    \n",
              "        <tr style=\"background-color: hsl(120, 100.00%, 86.63%); border: none;\">\n",
              "            <td style=\"padding: 0 1em 0 0.5em; text-align: right; border: none;\">\n",
              "                0.0704\n",
              "                \n",
              "                    &plusmn; 0.0115\n",
              "                \n",
              "            </td>\n",
              "            <td style=\"padding: 0 0.5em 0 0.5em; text-align: left; border: none;\">\n",
              "                menostat\n",
              "            </td>\n",
              "        </tr>\n",
              "    \n",
              "        <tr style=\"background-color: hsl(120, 100.00%, 89.11%); border: none;\">\n",
              "            <td style=\"padding: 0 1em 0 0.5em; text-align: right; border: none;\">\n",
              "                0.0525\n",
              "                \n",
              "                    &plusmn; 0.0083\n",
              "                \n",
              "            </td>\n",
              "            <td style=\"padding: 0 0.5em 0 0.5em; text-align: left; border: none;\">\n",
              "                tsize\n",
              "            </td>\n",
              "        </tr>\n",
              "    \n",
              "        <tr style=\"background-color: hsl(120, 100.00%, 92.57%); border: none;\">\n",
              "            <td style=\"padding: 0 1em 0 0.5em; text-align: right; border: none;\">\n",
              "                0.0304\n",
              "                \n",
              "                    &plusmn; 0.0074\n",
              "                \n",
              "            </td>\n",
              "            <td style=\"padding: 0 0.5em 0 0.5em; text-align: left; border: none;\">\n",
              "                age\n",
              "            </td>\n",
              "        </tr>\n",
              "    \n",
              "        <tr style=\"background-color: hsl(120, 100.00%, 93.54%); border: none;\">\n",
              "            <td style=\"padding: 0 1em 0 0.5em; text-align: right; border: none;\">\n",
              "                0.0249\n",
              "                \n",
              "                    &plusmn; 0.0058\n",
              "                \n",
              "            </td>\n",
              "            <td style=\"padding: 0 0.5em 0 0.5em; text-align: left; border: none;\">\n",
              "                horTh\n",
              "            </td>\n",
              "        </tr>\n",
              "    \n",
              "        <tr style=\"background-color: hsl(120, 100.00%, 95.76%); border: none;\">\n",
              "            <td style=\"padding: 0 1em 0 0.5em; text-align: right; border: none;\">\n",
              "                0.0137\n",
              "                \n",
              "                    &plusmn; 0.0036\n",
              "                \n",
              "            </td>\n",
              "            <td style=\"padding: 0 0.5em 0 0.5em; text-align: left; border: none;\">\n",
              "                estrec\n",
              "            </td>\n",
              "        </tr>\n",
              "    \n",
              "    \n",
              "    </tbody>\n",
              "</table>\n",
              "    \n",
              "\n",
              "    \n",
              "\n",
              "\n",
              "    \n",
              "\n",
              "    \n",
              "\n",
              "    \n",
              "\n",
              "    \n",
              "\n",
              "    \n",
              "\n",
              "    \n",
              "\n",
              "\n",
              "\n"
            ],
            "text/plain": [
              "<IPython.core.display.HTML object>"
            ]
          },
          "metadata": {
            "tags": []
          },
          "execution_count": 27
        }
      ]
    },
    {
      "cell_type": "code",
      "metadata": {
        "colab_type": "code",
        "id": "eIJpHi_7Hqah",
        "scrolled": true,
        "colab": {}
      },
      "source": [
        "# choose random seeds\n",
        "np.random.seed(0)\n",
        "seeds = np.random.permutation(1000)[:25]"
      ],
      "execution_count": 0,
      "outputs": []
    },
    {
      "cell_type": "code",
      "metadata": {
        "id": "vwoMSqcsb2qO",
        "colab_type": "code",
        "colab": {}
      },
      "source": [
        "cox_scores = []\n",
        "rsf_scores = []\n",
        "for _seed in seeds:\n",
        "    X_trn, X_test, y_trn, y_test = train_test_split(X, y, random_state=_seed)\n",
        "  \n",
        "    cox_best = make_pipeline(preprocessor, CoxPHSurvivalAnalysis(alpha=alpha))\n",
        "    cox_best.fit(X_trn, y_trn)\n",
        "    ci_cox = concordance_index_censored(y_test[\"cens\"], y_test[\"time\"], cox_best.predict(X_test))\n",
        "    cox_scores.append(ci_cox[0])\n",
        "\n",
        "    rsf = make_pipeline(preprocessor, RandomSurvivalForest(random_state=42))\n",
        "    rsf.fit(X_trn, y_trn)\n",
        "    ci_rsf = concordance_index_censored(y_test[\"cens\"], y_test[\"time\"], rsf.predict(X_test))\n",
        "    rsf_scores.append(ci_rsf[0])"
      ],
      "execution_count": 0,
      "outputs": []
    },
    {
      "cell_type": "code",
      "metadata": {
        "id": "x2jOt7VAb2qS",
        "colab_type": "code",
        "colab": {
          "base_uri": "https://localhost:8080/",
          "height": 52
        },
        "outputId": "1ddb2104-e5c2-49d1-d2de-907115580a80"
      },
      "source": [
        "print(f'Cox proportional hazards model: Mean c-index: {np.mean(cox_scores):.3f}, standard deviation: {np.std(cox_scores):.3f}')\n",
        "print(f'Random Survival Forest model: Mean c-index: {np.mean(rsf_scores):.3f}, standard deviation: {np.std(rsf_scores):.3f}')"
      ],
      "execution_count": 30,
      "outputs": [
        {
          "output_type": "stream",
          "text": [
            "Cox proportional hazards model: Mean c-index: 0.676, standard deviation: 0.031\n",
            "Random Survival Forest model: Mean c-index: 0.694, standard deviation: 0.028\n"
          ],
          "name": "stdout"
        }
      ]
    },
    {
      "cell_type": "code",
      "metadata": {
        "id": "NfngydKyb2qa",
        "colab_type": "code",
        "colab": {}
      },
      "source": [
        "data = {'Cox PH': cox_scores, 'Random Survival Forest': rsf_scores}"
      ],
      "execution_count": 0,
      "outputs": []
    },
    {
      "cell_type": "code",
      "metadata": {
        "id": "qVb7dcT2b2qe",
        "colab_type": "code",
        "colab": {}
      },
      "source": [
        "data = pd.DataFrame(data)"
      ],
      "execution_count": 0,
      "outputs": []
    },
    {
      "cell_type": "code",
      "metadata": {
        "id": "6mfrTXs2b2qi",
        "colab_type": "code",
        "colab": {
          "base_uri": "https://localhost:8080/",
          "height": 444
        },
        "outputId": "73e0cb92-ea5b-40ae-a779-0f0029cfd031"
      },
      "source": [
        "fig, ax = plt.subplots(figsize=(10,7))\n",
        "data.boxplot(ax=ax)\n",
        "ax.set_title('Concordance indexes (higher is better)')\n",
        "plt.show()"
      ],
      "execution_count": 33,
      "outputs": [
        {
          "output_type": "display_data",
          "data": {
            "image/png": "[encoded data removed]",
            "text/plain": [
              "<Figure size 720x504 with 1 Axes>"
            ]
          },
          "metadata": {
            "tags": [],
            "needs_background": "light"
          }
        }
      ]
    },
    {
      "cell_type": "code",
      "metadata": {
        "id": "050dKuqcb2ql",
        "colab_type": "code",
        "colab": {}
      },
      "source": [
        ""
      ],
      "execution_count": 0,
      "outputs": []
    }
  ]
}