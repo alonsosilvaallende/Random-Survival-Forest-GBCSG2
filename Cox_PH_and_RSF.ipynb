{
 "cells": [
  {
   "cell_type": "markdown",
   "metadata": {},
   "source": [
    "The objective of this post is to compare two models (Cox proportional hazards model and Random survival forest model) to estimate the survival probability given a set of features/covariables.\n",
    "\n",
    ">[\"Experimental Comparison of Semi-parametric, Parametric, and Machine Learning Models for Time-to-Event Analysis Through the Concordance Index,\"](https://arxiv.org/abs/2003.08820)\n",
    "Camila Fernandez, Chung Shue Chen, Pierre Gaillard, Alonso Silva\n",
    "\n",
    "To perform this analysis we will use [scikit-learn](https://scikit-learn.org/) and [scikit-survival](https://pypi.org/project/scikit-survival/). Finally, we will use [eli5](https://eli5.readthedocs.io/en/latest/index.html) to study feature importances (computed with permutation importance).\n",
    "\n",
    "```console\n",
    "$ conda install scikit-learn\n",
    "$ conda install -c sebp scikit-survival\n",
    "$ conda install -c conda-forge eli5\n",
    "```"
   ]
  },
  {
   "cell_type": "code",
   "execution_count": 1,
   "metadata": {
    "colab": {},
    "colab_type": "code",
    "id": "VoQVEI5p_rga"
   },
   "outputs": [],
   "source": [
    "import numpy as np\n",
    "import pandas as pd\n",
    "import matplotlib.pyplot as plt"
   ]
  },
  {
   "cell_type": "markdown",
   "metadata": {},
   "source": [
    "We first download a dataset from scikit-survival."
   ]
  },
  {
   "cell_type": "code",
   "execution_count": 2,
   "metadata": {
    "colab": {},
    "colab_type": "code",
    "id": "D0xxNWzI-N3j"
   },
   "outputs": [],
   "source": [
    "from sksurv.datasets import load_gbsg2\n",
    "\n",
    "X, y = load_gbsg2()"
   ]
  },
  {
   "cell_type": "markdown",
   "metadata": {},
   "source": [
    "## An example: German Breast Cancer Study Group 2 (gbcsg)\n",
    "\n",
    "This dataset contains the following 8 features/covariables:\n",
    "\n",
    "- age: age (in years), \n",
    "- estrec: estrogen receptor (in fmol), \n",
    "- horTh: hormonal therapy (yes or no), \n",
    "- menostat: menopausal status (premenopausal or postmenopausal),\n",
    "- pnodes: number of positive nodes, \n",
    "- progrec: progesterone receptor (in fmol), \n",
    "- tgrade: tumor grade (I < II < III), \n",
    "- tsize: tumor size (in mm).\n",
    "\n",
    "and the two outputs: \n",
    "\n",
    "- recurrence free time (in days),\n",
    "- censoring indicator (0 - censored, 1 - event).\n",
    "\n",
    "The dataset has 686 samples and 8 features/covariables.\n",
    "\n",
    "\n",
    "**References**\n",
    "\n",
    "M. Schumacher, G. Basert, H. Bojar, K. Huebner, M. Olschewski, W. Sauerbrei, C. Schmoor, C. Beyerle, R.L.A. Neumann and H.F. Rauschecker for the German Breast Cancer Study Group (1994), [Randomized 2 x 2 trial evaluating hormonal treatment and the duration of chemotherapy in node-positive breast cancer patients](https://www.ncbi.nlm.nih.gov/pubmed/7931478). Journal of Clinical Oncology, 12, 2086–2093."
   ]
  },
  {
   "cell_type": "markdown",
   "metadata": {},
   "source": [
    "Let's take a look at the features/covariates."
   ]
  },
  {
   "cell_type": "code",
   "execution_count": 3,
   "metadata": {
    "colab": {
     "base_uri": "https://localhost:8080/",
     "height": 254
    },
    "colab_type": "code",
    "id": "_OlmlI6g-X43",
    "outputId": "d259d0ce-03d6-4564-ba67-63e68bd8f182",
    "scrolled": true
   },
   "outputs": [
    {
     "data": {
      "text/html": [
       "<style  type=\"text/css\" >\n",
       "</style><table id=\"T_8b759938_956f_11ea_8fdb_60f81dc8f27a\" ><thead>    <tr>        <th class=\"col_heading level0 col0\" >age</th>        <th class=\"col_heading level0 col1\" >estrec</th>        <th class=\"col_heading level0 col2\" >horTh</th>        <th class=\"col_heading level0 col3\" >menostat</th>        <th class=\"col_heading level0 col4\" >pnodes</th>        <th class=\"col_heading level0 col5\" >progrec</th>        <th class=\"col_heading level0 col6\" >tgrade</th>        <th class=\"col_heading level0 col7\" >tsize</th>    </tr></thead><tbody>\n",
       "                <tr>\n",
       "                                <td id=\"T_8b759938_956f_11ea_8fdb_60f81dc8f27arow0_col0\" class=\"data row0 col0\" >70.000000</td>\n",
       "                        <td id=\"T_8b759938_956f_11ea_8fdb_60f81dc8f27arow0_col1\" class=\"data row0 col1\" >66.000000</td>\n",
       "                        <td id=\"T_8b759938_956f_11ea_8fdb_60f81dc8f27arow0_col2\" class=\"data row0 col2\" >no</td>\n",
       "                        <td id=\"T_8b759938_956f_11ea_8fdb_60f81dc8f27arow0_col3\" class=\"data row0 col3\" >Post</td>\n",
       "                        <td id=\"T_8b759938_956f_11ea_8fdb_60f81dc8f27arow0_col4\" class=\"data row0 col4\" >3.000000</td>\n",
       "                        <td id=\"T_8b759938_956f_11ea_8fdb_60f81dc8f27arow0_col5\" class=\"data row0 col5\" >48.000000</td>\n",
       "                        <td id=\"T_8b759938_956f_11ea_8fdb_60f81dc8f27arow0_col6\" class=\"data row0 col6\" >II</td>\n",
       "                        <td id=\"T_8b759938_956f_11ea_8fdb_60f81dc8f27arow0_col7\" class=\"data row0 col7\" >21.000000</td>\n",
       "            </tr>\n",
       "            <tr>\n",
       "                                <td id=\"T_8b759938_956f_11ea_8fdb_60f81dc8f27arow1_col0\" class=\"data row1 col0\" >56.000000</td>\n",
       "                        <td id=\"T_8b759938_956f_11ea_8fdb_60f81dc8f27arow1_col1\" class=\"data row1 col1\" >77.000000</td>\n",
       "                        <td id=\"T_8b759938_956f_11ea_8fdb_60f81dc8f27arow1_col2\" class=\"data row1 col2\" >yes</td>\n",
       "                        <td id=\"T_8b759938_956f_11ea_8fdb_60f81dc8f27arow1_col3\" class=\"data row1 col3\" >Post</td>\n",
       "                        <td id=\"T_8b759938_956f_11ea_8fdb_60f81dc8f27arow1_col4\" class=\"data row1 col4\" >7.000000</td>\n",
       "                        <td id=\"T_8b759938_956f_11ea_8fdb_60f81dc8f27arow1_col5\" class=\"data row1 col5\" >61.000000</td>\n",
       "                        <td id=\"T_8b759938_956f_11ea_8fdb_60f81dc8f27arow1_col6\" class=\"data row1 col6\" >II</td>\n",
       "                        <td id=\"T_8b759938_956f_11ea_8fdb_60f81dc8f27arow1_col7\" class=\"data row1 col7\" >12.000000</td>\n",
       "            </tr>\n",
       "            <tr>\n",
       "                                <td id=\"T_8b759938_956f_11ea_8fdb_60f81dc8f27arow2_col0\" class=\"data row2 col0\" >58.000000</td>\n",
       "                        <td id=\"T_8b759938_956f_11ea_8fdb_60f81dc8f27arow2_col1\" class=\"data row2 col1\" >271.000000</td>\n",
       "                        <td id=\"T_8b759938_956f_11ea_8fdb_60f81dc8f27arow2_col2\" class=\"data row2 col2\" >yes</td>\n",
       "                        <td id=\"T_8b759938_956f_11ea_8fdb_60f81dc8f27arow2_col3\" class=\"data row2 col3\" >Post</td>\n",
       "                        <td id=\"T_8b759938_956f_11ea_8fdb_60f81dc8f27arow2_col4\" class=\"data row2 col4\" >9.000000</td>\n",
       "                        <td id=\"T_8b759938_956f_11ea_8fdb_60f81dc8f27arow2_col5\" class=\"data row2 col5\" >52.000000</td>\n",
       "                        <td id=\"T_8b759938_956f_11ea_8fdb_60f81dc8f27arow2_col6\" class=\"data row2 col6\" >II</td>\n",
       "                        <td id=\"T_8b759938_956f_11ea_8fdb_60f81dc8f27arow2_col7\" class=\"data row2 col7\" >35.000000</td>\n",
       "            </tr>\n",
       "            <tr>\n",
       "                                <td id=\"T_8b759938_956f_11ea_8fdb_60f81dc8f27arow3_col0\" class=\"data row3 col0\" >59.000000</td>\n",
       "                        <td id=\"T_8b759938_956f_11ea_8fdb_60f81dc8f27arow3_col1\" class=\"data row3 col1\" >29.000000</td>\n",
       "                        <td id=\"T_8b759938_956f_11ea_8fdb_60f81dc8f27arow3_col2\" class=\"data row3 col2\" >yes</td>\n",
       "                        <td id=\"T_8b759938_956f_11ea_8fdb_60f81dc8f27arow3_col3\" class=\"data row3 col3\" >Post</td>\n",
       "                        <td id=\"T_8b759938_956f_11ea_8fdb_60f81dc8f27arow3_col4\" class=\"data row3 col4\" >4.000000</td>\n",
       "                        <td id=\"T_8b759938_956f_11ea_8fdb_60f81dc8f27arow3_col5\" class=\"data row3 col5\" >60.000000</td>\n",
       "                        <td id=\"T_8b759938_956f_11ea_8fdb_60f81dc8f27arow3_col6\" class=\"data row3 col6\" >II</td>\n",
       "                        <td id=\"T_8b759938_956f_11ea_8fdb_60f81dc8f27arow3_col7\" class=\"data row3 col7\" >17.000000</td>\n",
       "            </tr>\n",
       "            <tr>\n",
       "                                <td id=\"T_8b759938_956f_11ea_8fdb_60f81dc8f27arow4_col0\" class=\"data row4 col0\" >73.000000</td>\n",
       "                        <td id=\"T_8b759938_956f_11ea_8fdb_60f81dc8f27arow4_col1\" class=\"data row4 col1\" >65.000000</td>\n",
       "                        <td id=\"T_8b759938_956f_11ea_8fdb_60f81dc8f27arow4_col2\" class=\"data row4 col2\" >no</td>\n",
       "                        <td id=\"T_8b759938_956f_11ea_8fdb_60f81dc8f27arow4_col3\" class=\"data row4 col3\" >Post</td>\n",
       "                        <td id=\"T_8b759938_956f_11ea_8fdb_60f81dc8f27arow4_col4\" class=\"data row4 col4\" >1.000000</td>\n",
       "                        <td id=\"T_8b759938_956f_11ea_8fdb_60f81dc8f27arow4_col5\" class=\"data row4 col5\" >26.000000</td>\n",
       "                        <td id=\"T_8b759938_956f_11ea_8fdb_60f81dc8f27arow4_col6\" class=\"data row4 col6\" >II</td>\n",
       "                        <td id=\"T_8b759938_956f_11ea_8fdb_60f81dc8f27arow4_col7\" class=\"data row4 col7\" >35.000000</td>\n",
       "            </tr>\n",
       "            <tr>\n",
       "                                <td id=\"T_8b759938_956f_11ea_8fdb_60f81dc8f27arow5_col0\" class=\"data row5 col0\" >32.000000</td>\n",
       "                        <td id=\"T_8b759938_956f_11ea_8fdb_60f81dc8f27arow5_col1\" class=\"data row5 col1\" >13.000000</td>\n",
       "                        <td id=\"T_8b759938_956f_11ea_8fdb_60f81dc8f27arow5_col2\" class=\"data row5 col2\" >no</td>\n",
       "                        <td id=\"T_8b759938_956f_11ea_8fdb_60f81dc8f27arow5_col3\" class=\"data row5 col3\" >Pre</td>\n",
       "                        <td id=\"T_8b759938_956f_11ea_8fdb_60f81dc8f27arow5_col4\" class=\"data row5 col4\" >24.000000</td>\n",
       "                        <td id=\"T_8b759938_956f_11ea_8fdb_60f81dc8f27arow5_col5\" class=\"data row5 col5\" >0.000000</td>\n",
       "                        <td id=\"T_8b759938_956f_11ea_8fdb_60f81dc8f27arow5_col6\" class=\"data row5 col6\" >III</td>\n",
       "                        <td id=\"T_8b759938_956f_11ea_8fdb_60f81dc8f27arow5_col7\" class=\"data row5 col7\" >57.000000</td>\n",
       "            </tr>\n",
       "            <tr>\n",
       "                                <td id=\"T_8b759938_956f_11ea_8fdb_60f81dc8f27arow6_col0\" class=\"data row6 col0\" >59.000000</td>\n",
       "                        <td id=\"T_8b759938_956f_11ea_8fdb_60f81dc8f27arow6_col1\" class=\"data row6 col1\" >0.000000</td>\n",
       "                        <td id=\"T_8b759938_956f_11ea_8fdb_60f81dc8f27arow6_col2\" class=\"data row6 col2\" >yes</td>\n",
       "                        <td id=\"T_8b759938_956f_11ea_8fdb_60f81dc8f27arow6_col3\" class=\"data row6 col3\" >Post</td>\n",
       "                        <td id=\"T_8b759938_956f_11ea_8fdb_60f81dc8f27arow6_col4\" class=\"data row6 col4\" >2.000000</td>\n",
       "                        <td id=\"T_8b759938_956f_11ea_8fdb_60f81dc8f27arow6_col5\" class=\"data row6 col5\" >181.000000</td>\n",
       "                        <td id=\"T_8b759938_956f_11ea_8fdb_60f81dc8f27arow6_col6\" class=\"data row6 col6\" >II</td>\n",
       "                        <td id=\"T_8b759938_956f_11ea_8fdb_60f81dc8f27arow6_col7\" class=\"data row6 col7\" >8.000000</td>\n",
       "            </tr>\n",
       "            <tr>\n",
       "                                <td id=\"T_8b759938_956f_11ea_8fdb_60f81dc8f27arow7_col0\" class=\"data row7 col0\" >65.000000</td>\n",
       "                        <td id=\"T_8b759938_956f_11ea_8fdb_60f81dc8f27arow7_col1\" class=\"data row7 col1\" >25.000000</td>\n",
       "                        <td id=\"T_8b759938_956f_11ea_8fdb_60f81dc8f27arow7_col2\" class=\"data row7 col2\" >no</td>\n",
       "                        <td id=\"T_8b759938_956f_11ea_8fdb_60f81dc8f27arow7_col3\" class=\"data row7 col3\" >Post</td>\n",
       "                        <td id=\"T_8b759938_956f_11ea_8fdb_60f81dc8f27arow7_col4\" class=\"data row7 col4\" >1.000000</td>\n",
       "                        <td id=\"T_8b759938_956f_11ea_8fdb_60f81dc8f27arow7_col5\" class=\"data row7 col5\" >192.000000</td>\n",
       "                        <td id=\"T_8b759938_956f_11ea_8fdb_60f81dc8f27arow7_col6\" class=\"data row7 col6\" >II</td>\n",
       "                        <td id=\"T_8b759938_956f_11ea_8fdb_60f81dc8f27arow7_col7\" class=\"data row7 col7\" >16.000000</td>\n",
       "            </tr>\n",
       "            <tr>\n",
       "                                <td id=\"T_8b759938_956f_11ea_8fdb_60f81dc8f27arow8_col0\" class=\"data row8 col0\" >80.000000</td>\n",
       "                        <td id=\"T_8b759938_956f_11ea_8fdb_60f81dc8f27arow8_col1\" class=\"data row8 col1\" >59.000000</td>\n",
       "                        <td id=\"T_8b759938_956f_11ea_8fdb_60f81dc8f27arow8_col2\" class=\"data row8 col2\" >no</td>\n",
       "                        <td id=\"T_8b759938_956f_11ea_8fdb_60f81dc8f27arow8_col3\" class=\"data row8 col3\" >Post</td>\n",
       "                        <td id=\"T_8b759938_956f_11ea_8fdb_60f81dc8f27arow8_col4\" class=\"data row8 col4\" >30.000000</td>\n",
       "                        <td id=\"T_8b759938_956f_11ea_8fdb_60f81dc8f27arow8_col5\" class=\"data row8 col5\" >0.000000</td>\n",
       "                        <td id=\"T_8b759938_956f_11ea_8fdb_60f81dc8f27arow8_col6\" class=\"data row8 col6\" >II</td>\n",
       "                        <td id=\"T_8b759938_956f_11ea_8fdb_60f81dc8f27arow8_col7\" class=\"data row8 col7\" >39.000000</td>\n",
       "            </tr>\n",
       "            <tr>\n",
       "                                <td id=\"T_8b759938_956f_11ea_8fdb_60f81dc8f27arow9_col0\" class=\"data row9 col0\" >66.000000</td>\n",
       "                        <td id=\"T_8b759938_956f_11ea_8fdb_60f81dc8f27arow9_col1\" class=\"data row9 col1\" >3.000000</td>\n",
       "                        <td id=\"T_8b759938_956f_11ea_8fdb_60f81dc8f27arow9_col2\" class=\"data row9 col2\" >no</td>\n",
       "                        <td id=\"T_8b759938_956f_11ea_8fdb_60f81dc8f27arow9_col3\" class=\"data row9 col3\" >Post</td>\n",
       "                        <td id=\"T_8b759938_956f_11ea_8fdb_60f81dc8f27arow9_col4\" class=\"data row9 col4\" >7.000000</td>\n",
       "                        <td id=\"T_8b759938_956f_11ea_8fdb_60f81dc8f27arow9_col5\" class=\"data row9 col5\" >0.000000</td>\n",
       "                        <td id=\"T_8b759938_956f_11ea_8fdb_60f81dc8f27arow9_col6\" class=\"data row9 col6\" >II</td>\n",
       "                        <td id=\"T_8b759938_956f_11ea_8fdb_60f81dc8f27arow9_col7\" class=\"data row9 col7\" >18.000000</td>\n",
       "            </tr>\n",
       "    </tbody></table>"
      ],
      "text/plain": [
       "<pandas.io.formats.style.Styler at 0x1228e9d00>"
      ]
     },
     "execution_count": 3,
     "metadata": {},
     "output_type": "execute_result"
    }
   ],
   "source": [
    "X.head(10).style.hide_index()"
   ]
  },
  {
   "cell_type": "markdown",
   "metadata": {},
   "source": [
    "Let's take a look at the output."
   ]
  },
  {
   "cell_type": "code",
   "execution_count": 4,
   "metadata": {
    "colab": {
     "base_uri": "https://localhost:8080/",
     "height": 88
    },
    "colab_type": "code",
    "id": "h8ltRTa4_WOn",
    "outputId": "b638becd-7eef-4cc6-9ce1-49187f8ff9c6",
    "scrolled": true
   },
   "outputs": [
    {
     "data": {
      "text/plain": [
       "array([( True, 1814.), ( True, 2018.), ( True,  712.), ( True, 1807.),\n",
       "       ( True,  772.), ( True,  448.), (False, 2172.), (False, 2161.),\n",
       "       ( True,  471.), (False, 2014.)],\n",
       "      dtype=[('cens', '?'), ('time', '<f8')])"
      ]
     },
     "execution_count": 4,
     "metadata": {},
     "output_type": "execute_result"
    }
   ],
   "source": [
    "y[:10]"
   ]
  },
  {
   "cell_type": "markdown",
   "metadata": {},
   "source": [
    "For the output, scikit-survival uses a numpy nd array, so to show it we do a dataframe."
   ]
  },
  {
   "cell_type": "code",
   "execution_count": 5,
   "metadata": {
    "colab": {
     "base_uri": "https://localhost:8080/",
     "height": 254
    },
    "colab_type": "code",
    "id": "psFuJmxA_i_S",
    "outputId": "03f0f0ea-04dc-404e-ea23-dbd1bc341a3c"
   },
   "outputs": [
    {
     "data": {
      "text/html": [
       "<style  type=\"text/css\" >\n",
       "    #T_b2dc6a06_956f_11ea_8fdb_60f81dc8f27arow6_col1 {\n",
       "            background-color:  lightgreen;\n",
       "        }    #T_b2dc6a06_956f_11ea_8fdb_60f81dc8f27arow7_col1 {\n",
       "            background-color:  lightgreen;\n",
       "        }    #T_b2dc6a06_956f_11ea_8fdb_60f81dc8f27arow9_col1 {\n",
       "            background-color:  lightgreen;\n",
       "        }</style><table id=\"T_b2dc6a06_956f_11ea_8fdb_60f81dc8f27a\" ><thead>    <tr>        <th class=\"col_heading level0 col0\" >time</th>        <th class=\"col_heading level0 col1\" >event</th>    </tr></thead><tbody>\n",
       "                <tr>\n",
       "                                <td id=\"T_b2dc6a06_956f_11ea_8fdb_60f81dc8f27arow0_col0\" class=\"data row0 col0\" >1814.000000</td>\n",
       "                        <td id=\"T_b2dc6a06_956f_11ea_8fdb_60f81dc8f27arow0_col1\" class=\"data row0 col1\" >True</td>\n",
       "            </tr>\n",
       "            <tr>\n",
       "                                <td id=\"T_b2dc6a06_956f_11ea_8fdb_60f81dc8f27arow1_col0\" class=\"data row1 col0\" >2018.000000</td>\n",
       "                        <td id=\"T_b2dc6a06_956f_11ea_8fdb_60f81dc8f27arow1_col1\" class=\"data row1 col1\" >True</td>\n",
       "            </tr>\n",
       "            <tr>\n",
       "                                <td id=\"T_b2dc6a06_956f_11ea_8fdb_60f81dc8f27arow2_col0\" class=\"data row2 col0\" >712.000000</td>\n",
       "                        <td id=\"T_b2dc6a06_956f_11ea_8fdb_60f81dc8f27arow2_col1\" class=\"data row2 col1\" >True</td>\n",
       "            </tr>\n",
       "            <tr>\n",
       "                                <td id=\"T_b2dc6a06_956f_11ea_8fdb_60f81dc8f27arow3_col0\" class=\"data row3 col0\" >1807.000000</td>\n",
       "                        <td id=\"T_b2dc6a06_956f_11ea_8fdb_60f81dc8f27arow3_col1\" class=\"data row3 col1\" >True</td>\n",
       "            </tr>\n",
       "            <tr>\n",
       "                                <td id=\"T_b2dc6a06_956f_11ea_8fdb_60f81dc8f27arow4_col0\" class=\"data row4 col0\" >772.000000</td>\n",
       "                        <td id=\"T_b2dc6a06_956f_11ea_8fdb_60f81dc8f27arow4_col1\" class=\"data row4 col1\" >True</td>\n",
       "            </tr>\n",
       "            <tr>\n",
       "                                <td id=\"T_b2dc6a06_956f_11ea_8fdb_60f81dc8f27arow5_col0\" class=\"data row5 col0\" >448.000000</td>\n",
       "                        <td id=\"T_b2dc6a06_956f_11ea_8fdb_60f81dc8f27arow5_col1\" class=\"data row5 col1\" >True</td>\n",
       "            </tr>\n",
       "            <tr>\n",
       "                                <td id=\"T_b2dc6a06_956f_11ea_8fdb_60f81dc8f27arow6_col0\" class=\"data row6 col0\" >2172.000000</td>\n",
       "                        <td id=\"T_b2dc6a06_956f_11ea_8fdb_60f81dc8f27arow6_col1\" class=\"data row6 col1\" >False</td>\n",
       "            </tr>\n",
       "            <tr>\n",
       "                                <td id=\"T_b2dc6a06_956f_11ea_8fdb_60f81dc8f27arow7_col0\" class=\"data row7 col0\" >2161.000000</td>\n",
       "                        <td id=\"T_b2dc6a06_956f_11ea_8fdb_60f81dc8f27arow7_col1\" class=\"data row7 col1\" >False</td>\n",
       "            </tr>\n",
       "            <tr>\n",
       "                                <td id=\"T_b2dc6a06_956f_11ea_8fdb_60f81dc8f27arow8_col0\" class=\"data row8 col0\" >471.000000</td>\n",
       "                        <td id=\"T_b2dc6a06_956f_11ea_8fdb_60f81dc8f27arow8_col1\" class=\"data row8 col1\" >True</td>\n",
       "            </tr>\n",
       "            <tr>\n",
       "                                <td id=\"T_b2dc6a06_956f_11ea_8fdb_60f81dc8f27arow9_col0\" class=\"data row9 col0\" >2014.000000</td>\n",
       "                        <td id=\"T_b2dc6a06_956f_11ea_8fdb_60f81dc8f27arow9_col1\" class=\"data row9 col1\" >False</td>\n",
       "            </tr>\n",
       "    </tbody></table>"
      ],
      "text/plain": [
       "<pandas.io.formats.style.Styler at 0x122a3c220>"
      ]
     },
     "execution_count": 5,
     "metadata": {},
     "output_type": "execute_result"
    }
   ],
   "source": [
    "df_y = pd.DataFrame(data={'time': [y[i][1] for i in range(len(y))], 'event': [y[i][0] for i in range(len(y))]})\n",
    "df_y[:10].style.hide_index().highlight_min('event', color='lightgreen')"
   ]
  },
  {
   "cell_type": "markdown",
   "metadata": {},
   "source": [
    "One of the main challenges of survival analysis is **right censoring**, i.e., by the end of the study, the event of interest (for example, in medicine 'death of a patient' or in this dataset 'recurrence of cancer') has only occurred for a subset of the observations.\n",
    "\n",
    "The **right censoring** in this dataset is given by the column named 'event' and it's a variable which can take value 'True' if the patient had a recurrence of cancer or 'False' if the patient is recurrence free at the indicated time (right-censored samples)."
   ]
  },
  {
   "cell_type": "markdown",
   "metadata": {},
   "source": [
    "Let's see how many right-censored samples do we have."
   ]
  },
  {
   "cell_type": "code",
   "execution_count": 6,
   "metadata": {
    "colab": {
     "base_uri": "https://localhost:8080/",
     "height": 70
    },
    "colab_type": "code",
    "id": "rzS8h1GG_o_A",
    "outputId": "f5ad0fe2-e4bd-401e-bc11-b74c2341d837"
   },
   "outputs": [
    {
     "name": "stdout",
     "output_type": "stream",
     "text": [
      "Number of samples: 686\n",
      "Number of right censored samples: 387\n",
      "Percentage of right censored samples: 56.4%\n"
     ]
    }
   ],
   "source": [
    "print(f'Number of samples: {len(df_y)}')\n",
    "print(f'Number of right censored samples: {len(df_y.query(\"event == False\"))}')\n",
    "print(f'Percentage of right censored samples: {100*len(df_y.query(\"event == False\"))/len(df_y):.1f}%')"
   ]
  },
  {
   "cell_type": "markdown",
   "metadata": {
    "colab_type": "text",
    "id": "VtsENFsnQhZx"
   },
   "source": [
    "There are 387 patients (56.4%) who were right censored (recurrence free) at the end of the study.\n",
    "\n",
    "Let's divide our dataset in training and test sets."
   ]
  },
  {
   "cell_type": "code",
   "execution_count": 7,
   "metadata": {
    "colab": {
     "base_uri": "https://localhost:8080/",
     "height": 52
    },
    "colab_type": "code",
    "id": "duYhddUr_1nH",
    "outputId": "048fd59c-385c-45be-9da3-40878237ce01"
   },
   "outputs": [
    {
     "name": "stdout",
     "output_type": "stream",
     "text": [
      "Number of training samples: 514\n",
      "Number of test samples: 172\n"
     ]
    }
   ],
   "source": [
    "from sklearn.model_selection import train_test_split\n",
    "\n",
    "X_trn, X_test, y_trn, y_test = train_test_split(X, y, random_state=42)\n",
    "\n",
    "print(f'Number of training samples: {len(y_trn)}')\n",
    "print(f'Number of test samples: {len(y_test)}')"
   ]
  },
  {
   "cell_type": "markdown",
   "metadata": {},
   "source": [
    "We divide the features/covariates into continuous and categorical."
   ]
  },
  {
   "cell_type": "code",
   "execution_count": 8,
   "metadata": {
    "colab": {},
    "colab_type": "code",
    "id": "R1UVhukR_8VA"
   },
   "outputs": [],
   "source": [
    "scaling_cols = [c for c in X.columns if X[c].dtype.kind in ['i', 'f']]\n",
    "cat_cols = [c for c in X.columns if X[c].dtype.kind not in [\"i\", \"f\"]]"
   ]
  },
  {
   "cell_type": "markdown",
   "metadata": {},
   "source": [
    "We use ordinal encoding for categorical features/covariates and standard scaling for continuous features/covariates."
   ]
  },
  {
   "cell_type": "code",
   "execution_count": 9,
   "metadata": {
    "colab": {},
    "colab_type": "code",
    "id": "axfu8RQeACQx"
   },
   "outputs": [],
   "source": [
    "from sklearn.compose import ColumnTransformer\n",
    "from sklearn.preprocessing import OrdinalEncoder\n",
    "from sklearn.preprocessing import StandardScaler\n",
    "\n",
    "preprocessor = ColumnTransformer(\n",
    "    [('cat-preprocessor', OrdinalEncoder(), cat_cols),\n",
    "    ('standard-scaler', StandardScaler(), scaling_cols)],\n",
    "    remainder='passthrough', sparse_threshold=0)"
   ]
  },
  {
   "cell_type": "markdown",
   "metadata": {},
   "source": [
    "# Baseline: Cox Proportional Hazards model"
   ]
  },
  {
   "cell_type": "markdown",
   "metadata": {},
   "source": [
    "Cox Proportional Hazards model assumes that the log-hazard of a subject is a linear function of their $m$ static covariates/features $h_i, i\\in\\{1,\\ldots,m\\}$, and a population-level baseline hazard function $h_0(t)$ that changes over time:\n",
    "\\begin{equation}\n",
    "h(t|x)=h_0(t)\\exp\\left(\\sum_{i=1}^mh_i(x_i-\\bar{x_i})\\right).\n",
    "\\end{equation}\n",
    "\n",
    "The term *proportional hazards* refers to the assumption of a constant relationship between the dependent variable and the regression coefficients."
   ]
  },
  {
   "cell_type": "code",
   "execution_count": 10,
   "metadata": {
    "colab": {
     "base_uri": "https://localhost:8080/",
     "height": 35
    },
    "colab_type": "code",
    "id": "77YbwMKvAFHQ",
    "outputId": "ea05e759-4394-409e-873d-f35817f05ea9"
   },
   "outputs": [
    {
     "name": "stdout",
     "output_type": "stream",
     "text": [
      "The c-index of Cox is given by 0.635\n"
     ]
    }
   ],
   "source": [
    "from sklearn.pipeline import make_pipeline\n",
    "from sksurv.linear_model import CoxPHSurvivalAnalysis\n",
    "from sksurv.metrics import concordance_index_censored\n",
    "\n",
    "cox = make_pipeline(preprocessor, CoxPHSurvivalAnalysis())\n",
    "cox.fit(X_trn, y_trn)\n",
    "\n",
    "ci_cox = concordance_index_censored(y_test[\"cens\"], y_test[\"time\"], cox.predict(X_test))\n",
    "print(f'The c-index of Cox is given by {ci_cox[0]:.3f}')"
   ]
  },
  {
   "cell_type": "code",
   "execution_count": 11,
   "metadata": {
    "colab": {
     "base_uri": "https://localhost:8080/",
     "height": 52
    },
    "colab_type": "code",
    "id": "ZNHQ-bkWALNy",
    "outputId": "0bee7147-b3f6-47dc-fa86-1a5d0cdd9f63"
   },
   "outputs": [
    {
     "name": "stdout",
     "output_type": "stream",
     "text": [
      "The c-index of Cox using a RandomizedSearchCV is 0.646\n",
      "The best set of parameters is: {'coxphsurvivalanalysis__alpha': 31.428808908401084}\n"
     ]
    }
   ],
   "source": [
    "from scipy.stats import reciprocal\n",
    "from sklearn.model_selection import RandomizedSearchCV\n",
    "\n",
    "param_distributions = {\n",
    "    'coxphsurvivalanalysis__alpha': reciprocal(0.1, 100),\n",
    "}\n",
    "\n",
    "model_random_search = RandomizedSearchCV(\n",
    "    cox, param_distributions=param_distributions, n_iter=50, n_jobs=-1, cv=3, random_state=42)\n",
    "model_random_search.fit(X_trn, y_trn)\n",
    "\n",
    "print(\n",
    "    f\"The c-index of Cox using a {model_random_search.__class__.__name__} is \"\n",
    "    f\"{model_random_search.score(X_test, y_test):.3f}\")\n",
    "print(\n",
    "    f\"The best set of parameters is: {model_random_search.best_params_}\"\n",
    ")"
   ]
  },
  {
   "cell_type": "code",
   "execution_count": 12,
   "metadata": {
    "colab": {
     "base_uri": "https://localhost:8080/",
     "height": 35
    },
    "colab_type": "code",
    "id": "MrhAveCQAdxF",
    "outputId": "493787d0-2631-458a-eb38-0d49a35385b9"
   },
   "outputs": [
    {
     "name": "stdout",
     "output_type": "stream",
     "text": [
      "The c-index of Cox is given by 0.646\n"
     ]
    }
   ],
   "source": [
    "alpha = model_random_search.best_params_['coxphsurvivalanalysis__alpha']\n",
    "cox_best = make_pipeline(preprocessor, CoxPHSurvivalAnalysis(alpha=alpha))\n",
    "cox_best.fit(X_trn, y_trn)\n",
    "\n",
    "ci_cox = concordance_index_censored(y_test[\"cens\"], y_test[\"time\"], cox_best.predict(X_test))\n",
    "print(f'The c-index of Cox is given by {ci_cox[0]:.3f}')"
   ]
  },
  {
   "cell_type": "code",
   "execution_count": 13,
   "metadata": {
    "colab": {
     "base_uri": "https://localhost:8080/",
     "height": 125
    },
    "colab_type": "code",
    "id": "Oy3whfxOAlzN",
    "outputId": "c08dc968-0b2a-4eca-843f-6bf8d728d0af"
   },
   "outputs": [
    {
     "name": "stderr",
     "output_type": "stream",
     "text": [
      "/Users/alonsosilva/opt/anaconda3/envs/survival/lib/python3.8/site-packages/sklearn/utils/deprecation.py:144: FutureWarning: The sklearn.metrics.scorer module is  deprecated in version 0.22 and will be removed in version 0.24. The corresponding classes / functions should instead be imported from sklearn.metrics. Anything that cannot be imported from sklearn.metrics is now part of the private API.\n",
      "  warnings.warn(message, FutureWarning)\n",
      "/Users/alonsosilva/opt/anaconda3/envs/survival/lib/python3.8/site-packages/sklearn/utils/deprecation.py:144: FutureWarning: The sklearn.feature_selection.base module is  deprecated in version 0.22 and will be removed in version 0.24. The corresponding classes / functions should instead be imported from sklearn.feature_selection. Anything that cannot be imported from sklearn.feature_selection is now part of the private API.\n",
      "  warnings.warn(message, FutureWarning)\n"
     ]
    }
   ],
   "source": [
    "from eli5.sklearn import PermutationImportance"
   ]
  },
  {
   "cell_type": "code",
   "execution_count": 14,
   "metadata": {
    "colab": {},
    "colab_type": "code",
    "id": "j2wH_sxgBX1-"
   },
   "outputs": [],
   "source": [
    "perm = PermutationImportance(\n",
    "    cox_best.steps[-1][1], n_iter=100).fit(preprocessor.fit_transform(X_trn),y_trn)"
   ]
  },
  {
   "cell_type": "code",
   "execution_count": 15,
   "metadata": {
    "colab": {},
    "colab_type": "code",
    "id": "1Rdepqh18UDV"
   },
   "outputs": [],
   "source": [
    "data = perm.results_\n",
    "data = pd.DataFrame(data, columns=X_trn.columns)\n",
    "meds = data.median()\n",
    "meds = meds.sort_values(ascending=False)\n",
    "data = data[meds.index]"
   ]
  },
  {
   "cell_type": "code",
   "execution_count": 16,
   "metadata": {
    "colab": {
     "base_uri": "https://localhost:8080/",
     "height": 444
    },
    "colab_type": "code",
    "id": "PaPRs7hR9QL5",
    "outputId": "12d65d8c-bbcb-4f1e-b1a4-9c9284635d9b"
   },
   "outputs": [
    {
     "data": {
      "image/png": "[encoded data removed]",
      "text/plain": [
       "<Figure size 720x504 with 1 Axes>"
      ]
     },
     "metadata": {
      "needs_background": "light"
     },
     "output_type": "display_data"
    }
   ],
   "source": [
    "fig, ax = plt.subplots(figsize=(10,7))\n",
    "data.boxplot(ax=ax)\n",
    "ax.set_title('Feature Importances')\n",
    "plt.show()"
   ]
  },
  {
   "cell_type": "code",
   "execution_count": 17,
   "metadata": {
    "colab": {
     "base_uri": "https://localhost:8080/",
     "height": 173
    },
    "colab_type": "code",
    "id": "IjDH0p1dBuyV",
    "outputId": "6c4b49f8-c4e1-498e-d3c8-52986b6aa13b",
    "scrolled": true
   },
   "outputs": [
    {
     "data": {
      "text/html": [
       "\n",
       "    <style>\n",
       "    table.eli5-weights tr:hover {\n",
       "        filter: brightness(85%);\n",
       "    }\n",
       "</style>\n",
       "\n",
       "\n",
       "\n",
       "    \n",
       "\n",
       "    \n",
       "\n",
       "    \n",
       "\n",
       "    \n",
       "\n",
       "    \n",
       "\n",
       "    \n",
       "\n",
       "\n",
       "    \n",
       "\n",
       "    \n",
       "\n",
       "    \n",
       "\n",
       "    \n",
       "\n",
       "    \n",
       "\n",
       "    \n",
       "\n",
       "\n",
       "    \n",
       "\n",
       "    \n",
       "\n",
       "    \n",
       "\n",
       "    \n",
       "\n",
       "    \n",
       "        <table class=\"eli5-weights eli5-feature-importances\" style=\"border-collapse: collapse; border: none; margin-top: 0em; table-layout: auto;\">\n",
       "    <thead>\n",
       "    <tr style=\"border: none;\">\n",
       "        <th style=\"padding: 0 1em 0 0.5em; text-align: right; border: none;\">Weight</th>\n",
       "        <th style=\"padding: 0 0.5em 0 0.5em; text-align: left; border: none;\">Feature</th>\n",
       "    </tr>\n",
       "    </thead>\n",
       "    <tbody>\n",
       "    \n",
       "        <tr style=\"background-color: hsl(120, 100.00%, 80.00%); border: none;\">\n",
       "            <td style=\"padding: 0 1em 0 0.5em; text-align: right; border: none;\">\n",
       "                0.0691\n",
       "                \n",
       "                    &plusmn; 0.0273\n",
       "                \n",
       "            </td>\n",
       "            <td style=\"padding: 0 0.5em 0 0.5em; text-align: left; border: none;\">\n",
       "                tgrade\n",
       "            </td>\n",
       "        </tr>\n",
       "    \n",
       "        <tr style=\"background-color: hsl(120, 100.00%, 81.32%); border: none;\">\n",
       "            <td style=\"padding: 0 1em 0 0.5em; text-align: right; border: none;\">\n",
       "                0.0626\n",
       "                \n",
       "                    &plusmn; 0.0210\n",
       "                \n",
       "            </td>\n",
       "            <td style=\"padding: 0 0.5em 0 0.5em; text-align: left; border: none;\">\n",
       "                progrec\n",
       "            </td>\n",
       "        </tr>\n",
       "    \n",
       "        <tr style=\"background-color: hsl(120, 100.00%, 93.07%); border: none;\">\n",
       "            <td style=\"padding: 0 1em 0 0.5em; text-align: right; border: none;\">\n",
       "                0.0152\n",
       "                \n",
       "                    &plusmn; 0.0112\n",
       "                \n",
       "            </td>\n",
       "            <td style=\"padding: 0 0.5em 0 0.5em; text-align: left; border: none;\">\n",
       "                menostat\n",
       "            </td>\n",
       "        </tr>\n",
       "    \n",
       "        <tr style=\"background-color: hsl(120, 100.00%, 93.41%); border: none;\">\n",
       "            <td style=\"padding: 0 1em 0 0.5em; text-align: right; border: none;\">\n",
       "                0.0141\n",
       "                \n",
       "                    &plusmn; 0.0127\n",
       "                \n",
       "            </td>\n",
       "            <td style=\"padding: 0 0.5em 0 0.5em; text-align: left; border: none;\">\n",
       "                horTh\n",
       "            </td>\n",
       "        </tr>\n",
       "    \n",
       "        <tr style=\"background-color: hsl(120, 100.00%, 95.88%); border: none;\">\n",
       "            <td style=\"padding: 0 1em 0 0.5em; text-align: right; border: none;\">\n",
       "                0.0072\n",
       "                \n",
       "                    &plusmn; 0.0089\n",
       "                \n",
       "            </td>\n",
       "            <td style=\"padding: 0 0.5em 0 0.5em; text-align: left; border: none;\">\n",
       "                age\n",
       "            </td>\n",
       "        </tr>\n",
       "    \n",
       "        <tr style=\"background-color: hsl(120, 100.00%, 96.43%); border: none;\">\n",
       "            <td style=\"padding: 0 1em 0 0.5em; text-align: right; border: none;\">\n",
       "                0.0059\n",
       "                \n",
       "                    &plusmn; 0.0074\n",
       "                \n",
       "            </td>\n",
       "            <td style=\"padding: 0 0.5em 0 0.5em; text-align: left; border: none;\">\n",
       "                tsize\n",
       "            </td>\n",
       "        </tr>\n",
       "    \n",
       "        <tr style=\"background-color: hsl(120, 100.00%, 97.26%); border: none;\">\n",
       "            <td style=\"padding: 0 1em 0 0.5em; text-align: right; border: none;\">\n",
       "                0.0040\n",
       "                \n",
       "                    &plusmn; 0.0040\n",
       "                \n",
       "            </td>\n",
       "            <td style=\"padding: 0 0.5em 0 0.5em; text-align: left; border: none;\">\n",
       "                pnodes\n",
       "            </td>\n",
       "        </tr>\n",
       "    \n",
       "        <tr style=\"background-color: hsl(120, 100.00%, 99.31%); border: none;\">\n",
       "            <td style=\"padding: 0 1em 0 0.5em; text-align: right; border: none;\">\n",
       "                0.0006\n",
       "                \n",
       "                    &plusmn; 0.0018\n",
       "                \n",
       "            </td>\n",
       "            <td style=\"padding: 0 0.5em 0 0.5em; text-align: left; border: none;\">\n",
       "                estrec\n",
       "            </td>\n",
       "        </tr>\n",
       "    \n",
       "    \n",
       "    </tbody>\n",
       "</table>\n",
       "    \n",
       "\n",
       "    \n",
       "\n",
       "\n",
       "    \n",
       "\n",
       "    \n",
       "\n",
       "    \n",
       "\n",
       "    \n",
       "\n",
       "    \n",
       "\n",
       "    \n",
       "\n",
       "\n",
       "\n"
      ],
      "text/plain": [
       "<IPython.core.display.HTML object>"
      ]
     },
     "execution_count": 17,
     "metadata": {},
     "output_type": "execute_result"
    }
   ],
   "source": [
    "import eli5\n",
    "eli5.show_weights(perm, feature_names = X.columns.tolist())"
   ]
  },
  {
   "cell_type": "markdown",
   "metadata": {},
   "source": [
    "# Random Survival Forest model"
   ]
  },
  {
   "cell_type": "markdown",
   "metadata": {},
   "source": [
    "The random survival forest model, proposed by Ishwaran et al. (2008), is an extension of the random forest model, introduced by Breiman et al. (2001), that can take into account censoring. The randomness is introduced in two ways, first we use bootstrap samples of the dataset to grow the trees and second, at each node of the tree, we randomly choose a subset of variables as candidates for the split. The quality of a split is measured by the log-rank splitting rule. Then, we average the trees results which allows us to improve the accuracy and avoid overfitting."
   ]
  },
  {
   "cell_type": "code",
   "execution_count": 18,
   "metadata": {
    "colab": {
     "base_uri": "https://localhost:8080/",
     "height": 35
    },
    "colab_type": "code",
    "id": "gCVwkQmU5fSp",
    "outputId": "4f455aaa-7a6a-4bc8-92f9-f95a32f76653"
   },
   "outputs": [
    {
     "name": "stdout",
     "output_type": "stream",
     "text": [
      "The c-index of Random Survival Forest is given by 0.658\n"
     ]
    }
   ],
   "source": [
    "from sksurv.ensemble import RandomSurvivalForest\n",
    "\n",
    "rsf = make_pipeline(preprocessor, RandomSurvivalForest(random_state=42))\n",
    "rsf.fit(X_trn, y_trn)\n",
    "ci_rsf = concordance_index_censored(y_test[\"cens\"], y_test[\"time\"], rsf.predict(X_test))\n",
    "print(f'The c-index of Random Survival Forest is given by {ci_rsf[0]:.3f}')"
   ]
  },
  {
   "cell_type": "code",
   "execution_count": 19,
   "metadata": {
    "colab": {
     "base_uri": "https://localhost:8080/",
     "height": 52
    },
    "colab_type": "code",
    "id": "WeyeCxd1-12x",
    "outputId": "a48d9a73-c33c-4166-c35f-1472e4c841fc"
   },
   "outputs": [
    {
     "name": "stdout",
     "output_type": "stream",
     "text": [
      "The c-index of random survival forest using a RandomizedSearchCV is 0.640\n",
      "The best set of parameters is: {'randomsurvivalforest__max_depth': 23, 'randomsurvivalforest__max_features': 3, 'randomsurvivalforest__min_samples_leaf': 1}\n"
     ]
    }
   ],
   "source": [
    "from scipy.stats import reciprocal\n",
    "from sklearn.model_selection import RandomizedSearchCV\n",
    "\n",
    "class reciprocal_int:\n",
    "    def __init__(self, a, b):\n",
    "        self._distribution = reciprocal(a, b)\n",
    "\n",
    "    def rvs(self, *args, **kwargs):\n",
    "        return self._distribution.rvs(*args, **kwargs).astype(int)\n",
    "\n",
    "param_distributions1 = {\n",
    "    'randomsurvivalforest__max_features': reciprocal_int(3, 8),\n",
    "    'randomsurvivalforest__max_depth': reciprocal_int(5, 50),\n",
    "    'randomsurvivalforest__min_samples_leaf': reciprocal_int(1, 40),\n",
    "}\n",
    "\n",
    "model_random_search = RandomizedSearchCV(\n",
    "    rsf, param_distributions=param_distributions1, n_iter=50, n_jobs=-1, cv=3, random_state=0)\n",
    "model_random_search.fit(X_trn, y_trn)\n",
    "\n",
    "print(\n",
    "    f\"The c-index of random survival forest using a {model_random_search.__class__.__name__} is \"\n",
    "    f\"{model_random_search.score(X_test, y_test):.3f}\")\n",
    "print(\n",
    "    f\"The best set of parameters is: {model_random_search.best_params_}\"\n",
    ")"
   ]
  },
  {
   "cell_type": "code",
   "execution_count": 20,
   "metadata": {
    "colab": {},
    "colab_type": "code",
    "id": "BEBio-THEX9j"
   },
   "outputs": [],
   "source": [
    "max_depth = model_random_search.best_params_['randomsurvivalforest__max_depth']\n",
    "max_features = model_random_search.best_params_['randomsurvivalforest__max_features']\n",
    "min_samples_leaf = model_random_search.best_params_['randomsurvivalforest__min_samples_leaf']"
   ]
  },
  {
   "cell_type": "code",
   "execution_count": 21,
   "metadata": {
    "colab": {
     "base_uri": "https://localhost:8080/",
     "height": 35
    },
    "colab_type": "code",
    "id": "7W6p8DpyGCuK",
    "outputId": "cc1dcd12-b4db-4da4-a82d-4dbee079aec8"
   },
   "outputs": [
    {
     "name": "stdout",
     "output_type": "stream",
     "text": [
      "The c-index of Random Survival Forest is given by 0.640\n"
     ]
    }
   ],
   "source": [
    "rsf_best = make_pipeline(preprocessor, RandomSurvivalForest(random_state=42, max_depth=max_depth, max_features=max_features, min_samples_leaf=min_samples_leaf))\n",
    "rsf_best.fit(X_trn, y_trn)\n",
    "ci_rsf = concordance_index_censored(y_test[\"cens\"], y_test[\"time\"], rsf_best.predict(X_test))\n",
    "print(f'The c-index of Random Survival Forest is given by {ci_rsf[0]:.3f}')"
   ]
  },
  {
   "cell_type": "code",
   "execution_count": 22,
   "metadata": {
    "colab": {},
    "colab_type": "code",
    "id": "pzsLKvj5EJ5B"
   },
   "outputs": [],
   "source": [
    "perm = PermutationImportance(\n",
    "    rsf.steps[-1][1], n_iter=100).fit(preprocessor.fit_transform(X_trn),y_trn)"
   ]
  },
  {
   "cell_type": "code",
   "execution_count": 23,
   "metadata": {
    "colab": {},
    "colab_type": "code",
    "id": "T7VgksvkGe8u"
   },
   "outputs": [],
   "source": [
    "data = perm.results_\n",
    "data = pd.DataFrame(data, columns=X_trn.columns)\n",
    "meds = data.median()\n",
    "meds = meds.sort_values(ascending=False)\n",
    "data = data[meds.index]"
   ]
  },
  {
   "cell_type": "code",
   "execution_count": 24,
   "metadata": {
    "colab": {
     "base_uri": "https://localhost:8080/",
     "height": 444
    },
    "colab_type": "code",
    "id": "PsoXcbNsG2yo",
    "outputId": "c4704cca-a536-4ce8-9bd7-13371da173c7"
   },
   "outputs": [
    {
     "data": {
      "image/png": "[encoded data removed]",
      "text/plain": [
       "<Figure size 720x504 with 1 Axes>"
      ]
     },
     "metadata": {
      "needs_background": "light"
     },
     "output_type": "display_data"
    }
   ],
   "source": [
    "fig, ax = plt.subplots(figsize=(10,7))\n",
    "data.boxplot(ax=ax)\n",
    "ax.set_title('Feature Importances')\n",
    "plt.show()"
   ]
  },
  {
   "cell_type": "code",
   "execution_count": 25,
   "metadata": {
    "colab": {
     "base_uri": "https://localhost:8080/",
     "height": 173
    },
    "colab_type": "code",
    "id": "MQNLJXlsG6ou",
    "outputId": "d86f1199-d5a9-45cc-b59e-b30e5d4be1d1"
   },
   "outputs": [
    {
     "data": {
      "text/html": [
       "\n",
       "    <style>\n",
       "    table.eli5-weights tr:hover {\n",
       "        filter: brightness(85%);\n",
       "    }\n",
       "</style>\n",
       "\n",
       "\n",
       "\n",
       "    \n",
       "\n",
       "    \n",
       "\n",
       "    \n",
       "\n",
       "    \n",
       "\n",
       "    \n",
       "\n",
       "    \n",
       "\n",
       "\n",
       "    \n",
       "\n",
       "    \n",
       "\n",
       "    \n",
       "\n",
       "    \n",
       "\n",
       "    \n",
       "\n",
       "    \n",
       "\n",
       "\n",
       "    \n",
       "\n",
       "    \n",
       "\n",
       "    \n",
       "\n",
       "    \n",
       "\n",
       "    \n",
       "        <table class=\"eli5-weights eli5-feature-importances\" style=\"border-collapse: collapse; border: none; margin-top: 0em; table-layout: auto;\">\n",
       "    <thead>\n",
       "    <tr style=\"border: none;\">\n",
       "        <th style=\"padding: 0 1em 0 0.5em; text-align: right; border: none;\">Weight</th>\n",
       "        <th style=\"padding: 0 0.5em 0 0.5em; text-align: left; border: none;\">Feature</th>\n",
       "    </tr>\n",
       "    </thead>\n",
       "    <tbody>\n",
       "    \n",
       "        <tr style=\"background-color: hsl(120, 100.00%, 80.00%); border: none;\">\n",
       "            <td style=\"padding: 0 1em 0 0.5em; text-align: right; border: none;\">\n",
       "                0.1218\n",
       "                \n",
       "                    &plusmn; 0.0212\n",
       "                \n",
       "            </td>\n",
       "            <td style=\"padding: 0 0.5em 0 0.5em; text-align: left; border: none;\">\n",
       "                progrec\n",
       "            </td>\n",
       "        </tr>\n",
       "    \n",
       "        <tr style=\"background-color: hsl(120, 100.00%, 80.81%); border: none;\">\n",
       "            <td style=\"padding: 0 1em 0 0.5em; text-align: right; border: none;\">\n",
       "                0.1149\n",
       "                \n",
       "                    &plusmn; 0.0195\n",
       "                \n",
       "            </td>\n",
       "            <td style=\"padding: 0 0.5em 0 0.5em; text-align: left; border: none;\">\n",
       "                tgrade\n",
       "            </td>\n",
       "        </tr>\n",
       "    \n",
       "        <tr style=\"background-color: hsl(120, 100.00%, 86.12%); border: none;\">\n",
       "            <td style=\"padding: 0 1em 0 0.5em; text-align: right; border: none;\">\n",
       "                0.0723\n",
       "                \n",
       "                    &plusmn; 0.0087\n",
       "                \n",
       "            </td>\n",
       "            <td style=\"padding: 0 0.5em 0 0.5em; text-align: left; border: none;\">\n",
       "                pnodes\n",
       "            </td>\n",
       "        </tr>\n",
       "    \n",
       "        <tr style=\"background-color: hsl(120, 100.00%, 86.50%); border: none;\">\n",
       "            <td style=\"padding: 0 1em 0 0.5em; text-align: right; border: none;\">\n",
       "                0.0695\n",
       "                \n",
       "                    &plusmn; 0.0106\n",
       "                \n",
       "            </td>\n",
       "            <td style=\"padding: 0 0.5em 0 0.5em; text-align: left; border: none;\">\n",
       "                menostat\n",
       "            </td>\n",
       "        </tr>\n",
       "    \n",
       "        <tr style=\"background-color: hsl(120, 100.00%, 88.96%); border: none;\">\n",
       "            <td style=\"padding: 0 1em 0 0.5em; text-align: right; border: none;\">\n",
       "                0.0521\n",
       "                \n",
       "                    &plusmn; 0.0090\n",
       "                \n",
       "            </td>\n",
       "            <td style=\"padding: 0 0.5em 0 0.5em; text-align: left; border: none;\">\n",
       "                tsize\n",
       "            </td>\n",
       "        </tr>\n",
       "    \n",
       "        <tr style=\"background-color: hsl(120, 100.00%, 92.29%); border: none;\">\n",
       "            <td style=\"padding: 0 1em 0 0.5em; text-align: right; border: none;\">\n",
       "                0.0312\n",
       "                \n",
       "                    &plusmn; 0.0084\n",
       "                \n",
       "            </td>\n",
       "            <td style=\"padding: 0 0.5em 0 0.5em; text-align: left; border: none;\">\n",
       "                age\n",
       "            </td>\n",
       "        </tr>\n",
       "    \n",
       "        <tr style=\"background-color: hsl(120, 100.00%, 93.53%); border: none;\">\n",
       "            <td style=\"padding: 0 1em 0 0.5em; text-align: right; border: none;\">\n",
       "                0.0243\n",
       "                \n",
       "                    &plusmn; 0.0055\n",
       "                \n",
       "            </td>\n",
       "            <td style=\"padding: 0 0.5em 0 0.5em; text-align: left; border: none;\">\n",
       "                horTh\n",
       "            </td>\n",
       "        </tr>\n",
       "    \n",
       "        <tr style=\"background-color: hsl(120, 100.00%, 95.72%); border: none;\">\n",
       "            <td style=\"padding: 0 1em 0 0.5em; text-align: right; border: none;\">\n",
       "                0.0134\n",
       "                \n",
       "                    &plusmn; 0.0034\n",
       "                \n",
       "            </td>\n",
       "            <td style=\"padding: 0 0.5em 0 0.5em; text-align: left; border: none;\">\n",
       "                estrec\n",
       "            </td>\n",
       "        </tr>\n",
       "    \n",
       "    \n",
       "    </tbody>\n",
       "</table>\n",
       "    \n",
       "\n",
       "    \n",
       "\n",
       "\n",
       "    \n",
       "\n",
       "    \n",
       "\n",
       "    \n",
       "\n",
       "    \n",
       "\n",
       "    \n",
       "\n",
       "    \n",
       "\n",
       "\n",
       "\n"
      ],
      "text/plain": [
       "<IPython.core.display.HTML object>"
      ]
     },
     "execution_count": 25,
     "metadata": {},
     "output_type": "execute_result"
    }
   ],
   "source": [
    "eli5.show_weights(perm, feature_names = X.columns.tolist())"
   ]
  },
  {
   "cell_type": "code",
   "execution_count": 26,
   "metadata": {
    "colab": {},
    "colab_type": "code",
    "id": "eIJpHi_7Hqah",
    "scrolled": true
   },
   "outputs": [],
   "source": [
    "# choose random seeds\n",
    "np.random.seed(0)\n",
    "seeds = np.random.permutation(1000)[:25]"
   ]
  },
  {
   "cell_type": "code",
   "execution_count": 27,
   "metadata": {},
   "outputs": [],
   "source": [
    "cox_scores = []\n",
    "rsf_scores = []\n",
    "for _seed in seeds:\n",
    "    X_trn, X_test, y_trn, y_test = train_test_split(X, y, random_state=_seed)\n",
    "  \n",
    "    cox_best = make_pipeline(preprocessor, CoxPHSurvivalAnalysis(alpha=alpha))\n",
    "    cox_best.fit(X_trn, y_trn)\n",
    "    ci_cox = concordance_index_censored(y_test[\"cens\"], y_test[\"time\"], cox_best.predict(X_test))\n",
    "    cox_scores.append(ci_cox[0])\n",
    "\n",
    "    rsf = make_pipeline(preprocessor, RandomSurvivalForest(random_state=42))\n",
    "    rsf.fit(X_trn, y_trn)\n",
    "    ci_rsf = concordance_index_censored(y_test[\"cens\"], y_test[\"time\"], rsf.predict(X_test))\n",
    "    rsf_scores.append(ci_rsf[0])"
   ]
  },
  {
   "cell_type": "code",
   "execution_count": 28,
   "metadata": {},
   "outputs": [
    {
     "name": "stdout",
     "output_type": "stream",
     "text": [
      "Cox proportional hazards model: Mean c-index: 0.676, standard deviation: 0.031\n",
      "Random Survival Forest model: Mean c-index: 0.694, standard deviation: 0.028\n"
     ]
    }
   ],
   "source": [
    "print(f'Cox proportional hazards model: Mean c-index: {np.mean(cox_scores):.3f}, standard deviation: {np.std(cox_scores):.3f}')\n",
    "print(f'Random Survival Forest model: Mean c-index: {np.mean(rsf_scores):.3f}, standard deviation: {np.std(rsf_scores):.3f}')"
   ]
  },
  {
   "cell_type": "code",
   "execution_count": 29,
   "metadata": {},
   "outputs": [],
   "source": [
    "data = {'Cox PH': cox_scores, 'Random Survival Forest': rsf_scores}"
   ]
  },
  {
   "cell_type": "code",
   "execution_count": 30,
   "metadata": {},
   "outputs": [],
   "source": [
    "data = pd.DataFrame(data)"
   ]
  },
  {
   "cell_type": "code",
   "execution_count": 31,
   "metadata": {},
   "outputs": [
    {
     "data": {
      "image/png": "[encoded data removed]",
      "text/plain": [
       "<Figure size 720x504 with 1 Axes>"
      ]
     },
     "metadata": {
      "needs_background": "light"
     },
     "output_type": "display_data"
    }
   ],
   "source": [
    "fig, ax = plt.subplots(figsize=(10,7))\n",
    "data.boxplot(ax=ax)\n",
    "ax.set_title('Concordance indexes (higher is better)')\n",
    "plt.show()"
   ]
  },
  {
   "cell_type": "code",
   "execution_count": null,
   "metadata": {},
   "outputs": [],
   "source": []
  }
 ],
 "metadata": {
  "colab": {
   "authorship_tag": "ABX9TyNAAHjTWZLJ+trUIoNnu/Vf",
   "collapsed_sections": [],
   "include_colab_link": true,
   "name": "Cox_PH_and_RSF.ipynb",
   "provenance": []
  },
  "kernelspec": {
   "display_name": "Python 3",
   "language": "python",
   "name": "python3"
  },
  "language_info": {
   "codemirror_mode": {
    "name": "ipython",
    "version": 3
   },
   "file_extension": ".py",
   "mimetype": "text/x-python",
   "name": "python",
   "nbconvert_exporter": "python",
   "pygments_lexer": "ipython3",
   "version": "3.8.2"
  }
 },
 "nbformat": 4,
 "nbformat_minor": 1
}
