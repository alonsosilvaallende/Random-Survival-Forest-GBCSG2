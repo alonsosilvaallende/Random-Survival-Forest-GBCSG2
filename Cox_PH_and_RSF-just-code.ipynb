{
  "nbformat": 4,
  "nbformat_minor": 0,
  "metadata": {
    "colab": {
      "name": "Cox_PH_and_RSF.ipynb",
      "provenance": [],
      "collapsed_sections": [],
      "authorship_tag": "ABX9TyNAAHjTWZLJ+trUIoNnu/Vf",
      "include_colab_link": true
    },
    "kernelspec": {
      "name": "python3",
      "display_name": "Python 3"
    }
  },
  "cells": [
    {
      "cell_type": "markdown",
      "metadata": {
        "id": "view-in-github",
        "colab_type": "text"
      },
      "source": [
        "<a href=\"https://colab.research.google.com/github/alonsosilvaallende/Random-Survival-Forest-GBCSG2/blob/master/Cox_PH_and_RSF-just-code.ipynb\" target=\"_parent\"><img src=\"https://colab.research.google.com/assets/colab-badge.svg\" alt=\"Open In Colab\"/></a>"
      ]
    },
    {
      "cell_type": "code",
      "metadata": {
        "id": "VoQVEI5p_rga",
        "colab_type": "code",
        "colab": {}
      },
      "source": [
        "import pandas as pd\n",
        "import matplotlib.pyplot as plt"
      ],
      "execution_count": 0,
      "outputs": []
    },
    {
      "cell_type": "code",
      "metadata": {
        "id": "SF7kGCkH9f4T",
        "colab_type": "code",
        "colab": {
          "base_uri": "https://localhost:8080/",
          "height": 35
        },
        "outputId": "510a2d51-c2b4-4a1b-ae7b-a6530f04d144"
      },
      "source": [
        "!pip install -q scikit-survival"
      ],
      "execution_count": 3,
      "outputs": [
        {
          "output_type": "stream",
          "text": [
            "\u001b[K     |████████████████████████████████| 7.1MB 2.8MB/s \n",
            "\u001b[?25h"
          ],
          "name": "stdout"
        }
      ]
    },
    {
      "cell_type": "code",
      "metadata": {
        "id": "D0xxNWzI-N3j",
        "colab_type": "code",
        "colab": {}
      },
      "source": [
        "from sksurv.datasets import load_gbsg2\n",
        "\n",
        "X, y = load_gbsg2()"
      ],
      "execution_count": 0,
      "outputs": []
    },
    {
      "cell_type": "code",
      "metadata": {
        "id": "_OlmlI6g-X43",
        "colab_type": "code",
        "outputId": "d259d0ce-03d6-4564-ba67-63e68bd8f182",
        "colab": {
          "base_uri": "https://localhost:8080/",
          "height": 254
        }
      },
      "source": [
        "X.head(10).style.hide_index()"
      ],
      "execution_count": 5,
      "outputs": [
        {
          "output_type": "execute_result",
          "data": {
            "text/html": [
              "<style  type=\"text/css\" >\n",
              "</style><table id=\"T_2d7277ec_9499_11ea_8a2a_0242ac1c0002\" ><thead>    <tr>        <th class=\"col_heading level0 col0\" >age</th>        <th class=\"col_heading level0 col1\" >estrec</th>        <th class=\"col_heading level0 col2\" >horTh</th>        <th class=\"col_heading level0 col3\" >menostat</th>        <th class=\"col_heading level0 col4\" >pnodes</th>        <th class=\"col_heading level0 col5\" >progrec</th>        <th class=\"col_heading level0 col6\" >tgrade</th>        <th class=\"col_heading level0 col7\" >tsize</th>    </tr></thead><tbody>\n",
              "                <tr>\n",
              "                                <td id=\"T_2d7277ec_9499_11ea_8a2a_0242ac1c0002row0_col0\" class=\"data row0 col0\" >70.000000</td>\n",
              "                        <td id=\"T_2d7277ec_9499_11ea_8a2a_0242ac1c0002row0_col1\" class=\"data row0 col1\" >66.000000</td>\n",
              "                        <td id=\"T_2d7277ec_9499_11ea_8a2a_0242ac1c0002row0_col2\" class=\"data row0 col2\" >no</td>\n",
              "                        <td id=\"T_2d7277ec_9499_11ea_8a2a_0242ac1c0002row0_col3\" class=\"data row0 col3\" >Post</td>\n",
              "                        <td id=\"T_2d7277ec_9499_11ea_8a2a_0242ac1c0002row0_col4\" class=\"data row0 col4\" >3.000000</td>\n",
              "                        <td id=\"T_2d7277ec_9499_11ea_8a2a_0242ac1c0002row0_col5\" class=\"data row0 col5\" >48.000000</td>\n",
              "                        <td id=\"T_2d7277ec_9499_11ea_8a2a_0242ac1c0002row0_col6\" class=\"data row0 col6\" >II</td>\n",
              "                        <td id=\"T_2d7277ec_9499_11ea_8a2a_0242ac1c0002row0_col7\" class=\"data row0 col7\" >21.000000</td>\n",
              "            </tr>\n",
              "            <tr>\n",
              "                                <td id=\"T_2d7277ec_9499_11ea_8a2a_0242ac1c0002row1_col0\" class=\"data row1 col0\" >56.000000</td>\n",
              "                        <td id=\"T_2d7277ec_9499_11ea_8a2a_0242ac1c0002row1_col1\" class=\"data row1 col1\" >77.000000</td>\n",
              "                        <td id=\"T_2d7277ec_9499_11ea_8a2a_0242ac1c0002row1_col2\" class=\"data row1 col2\" >yes</td>\n",
              "                        <td id=\"T_2d7277ec_9499_11ea_8a2a_0242ac1c0002row1_col3\" class=\"data row1 col3\" >Post</td>\n",
              "                        <td id=\"T_2d7277ec_9499_11ea_8a2a_0242ac1c0002row1_col4\" class=\"data row1 col4\" >7.000000</td>\n",
              "                        <td id=\"T_2d7277ec_9499_11ea_8a2a_0242ac1c0002row1_col5\" class=\"data row1 col5\" >61.000000</td>\n",
              "                        <td id=\"T_2d7277ec_9499_11ea_8a2a_0242ac1c0002row1_col6\" class=\"data row1 col6\" >II</td>\n",
              "                        <td id=\"T_2d7277ec_9499_11ea_8a2a_0242ac1c0002row1_col7\" class=\"data row1 col7\" >12.000000</td>\n",
              "            </tr>\n",
              "            <tr>\n",
              "                                <td id=\"T_2d7277ec_9499_11ea_8a2a_0242ac1c0002row2_col0\" class=\"data row2 col0\" >58.000000</td>\n",
              "                        <td id=\"T_2d7277ec_9499_11ea_8a2a_0242ac1c0002row2_col1\" class=\"data row2 col1\" >271.000000</td>\n",
              "                        <td id=\"T_2d7277ec_9499_11ea_8a2a_0242ac1c0002row2_col2\" class=\"data row2 col2\" >yes</td>\n",
              "                        <td id=\"T_2d7277ec_9499_11ea_8a2a_0242ac1c0002row2_col3\" class=\"data row2 col3\" >Post</td>\n",
              "                        <td id=\"T_2d7277ec_9499_11ea_8a2a_0242ac1c0002row2_col4\" class=\"data row2 col4\" >9.000000</td>\n",
              "                        <td id=\"T_2d7277ec_9499_11ea_8a2a_0242ac1c0002row2_col5\" class=\"data row2 col5\" >52.000000</td>\n",
              "                        <td id=\"T_2d7277ec_9499_11ea_8a2a_0242ac1c0002row2_col6\" class=\"data row2 col6\" >II</td>\n",
              "                        <td id=\"T_2d7277ec_9499_11ea_8a2a_0242ac1c0002row2_col7\" class=\"data row2 col7\" >35.000000</td>\n",
              "            </tr>\n",
              "            <tr>\n",
              "                                <td id=\"T_2d7277ec_9499_11ea_8a2a_0242ac1c0002row3_col0\" class=\"data row3 col0\" >59.000000</td>\n",
              "                        <td id=\"T_2d7277ec_9499_11ea_8a2a_0242ac1c0002row3_col1\" class=\"data row3 col1\" >29.000000</td>\n",
              "                        <td id=\"T_2d7277ec_9499_11ea_8a2a_0242ac1c0002row3_col2\" class=\"data row3 col2\" >yes</td>\n",
              "                        <td id=\"T_2d7277ec_9499_11ea_8a2a_0242ac1c0002row3_col3\" class=\"data row3 col3\" >Post</td>\n",
              "                        <td id=\"T_2d7277ec_9499_11ea_8a2a_0242ac1c0002row3_col4\" class=\"data row3 col4\" >4.000000</td>\n",
              "                        <td id=\"T_2d7277ec_9499_11ea_8a2a_0242ac1c0002row3_col5\" class=\"data row3 col5\" >60.000000</td>\n",
              "                        <td id=\"T_2d7277ec_9499_11ea_8a2a_0242ac1c0002row3_col6\" class=\"data row3 col6\" >II</td>\n",
              "                        <td id=\"T_2d7277ec_9499_11ea_8a2a_0242ac1c0002row3_col7\" class=\"data row3 col7\" >17.000000</td>\n",
              "            </tr>\n",
              "            <tr>\n",
              "                                <td id=\"T_2d7277ec_9499_11ea_8a2a_0242ac1c0002row4_col0\" class=\"data row4 col0\" >73.000000</td>\n",
              "                        <td id=\"T_2d7277ec_9499_11ea_8a2a_0242ac1c0002row4_col1\" class=\"data row4 col1\" >65.000000</td>\n",
              "                        <td id=\"T_2d7277ec_9499_11ea_8a2a_0242ac1c0002row4_col2\" class=\"data row4 col2\" >no</td>\n",
              "                        <td id=\"T_2d7277ec_9499_11ea_8a2a_0242ac1c0002row4_col3\" class=\"data row4 col3\" >Post</td>\n",
              "                        <td id=\"T_2d7277ec_9499_11ea_8a2a_0242ac1c0002row4_col4\" class=\"data row4 col4\" >1.000000</td>\n",
              "                        <td id=\"T_2d7277ec_9499_11ea_8a2a_0242ac1c0002row4_col5\" class=\"data row4 col5\" >26.000000</td>\n",
              "                        <td id=\"T_2d7277ec_9499_11ea_8a2a_0242ac1c0002row4_col6\" class=\"data row4 col6\" >II</td>\n",
              "                        <td id=\"T_2d7277ec_9499_11ea_8a2a_0242ac1c0002row4_col7\" class=\"data row4 col7\" >35.000000</td>\n",
              "            </tr>\n",
              "            <tr>\n",
              "                                <td id=\"T_2d7277ec_9499_11ea_8a2a_0242ac1c0002row5_col0\" class=\"data row5 col0\" >32.000000</td>\n",
              "                        <td id=\"T_2d7277ec_9499_11ea_8a2a_0242ac1c0002row5_col1\" class=\"data row5 col1\" >13.000000</td>\n",
              "                        <td id=\"T_2d7277ec_9499_11ea_8a2a_0242ac1c0002row5_col2\" class=\"data row5 col2\" >no</td>\n",
              "                        <td id=\"T_2d7277ec_9499_11ea_8a2a_0242ac1c0002row5_col3\" class=\"data row5 col3\" >Pre</td>\n",
              "                        <td id=\"T_2d7277ec_9499_11ea_8a2a_0242ac1c0002row5_col4\" class=\"data row5 col4\" >24.000000</td>\n",
              "                        <td id=\"T_2d7277ec_9499_11ea_8a2a_0242ac1c0002row5_col5\" class=\"data row5 col5\" >0.000000</td>\n",
              "                        <td id=\"T_2d7277ec_9499_11ea_8a2a_0242ac1c0002row5_col6\" class=\"data row5 col6\" >III</td>\n",
              "                        <td id=\"T_2d7277ec_9499_11ea_8a2a_0242ac1c0002row5_col7\" class=\"data row5 col7\" >57.000000</td>\n",
              "            </tr>\n",
              "            <tr>\n",
              "                                <td id=\"T_2d7277ec_9499_11ea_8a2a_0242ac1c0002row6_col0\" class=\"data row6 col0\" >59.000000</td>\n",
              "                        <td id=\"T_2d7277ec_9499_11ea_8a2a_0242ac1c0002row6_col1\" class=\"data row6 col1\" >0.000000</td>\n",
              "                        <td id=\"T_2d7277ec_9499_11ea_8a2a_0242ac1c0002row6_col2\" class=\"data row6 col2\" >yes</td>\n",
              "                        <td id=\"T_2d7277ec_9499_11ea_8a2a_0242ac1c0002row6_col3\" class=\"data row6 col3\" >Post</td>\n",
              "                        <td id=\"T_2d7277ec_9499_11ea_8a2a_0242ac1c0002row6_col4\" class=\"data row6 col4\" >2.000000</td>\n",
              "                        <td id=\"T_2d7277ec_9499_11ea_8a2a_0242ac1c0002row6_col5\" class=\"data row6 col5\" >181.000000</td>\n",
              "                        <td id=\"T_2d7277ec_9499_11ea_8a2a_0242ac1c0002row6_col6\" class=\"data row6 col6\" >II</td>\n",
              "                        <td id=\"T_2d7277ec_9499_11ea_8a2a_0242ac1c0002row6_col7\" class=\"data row6 col7\" >8.000000</td>\n",
              "            </tr>\n",
              "            <tr>\n",
              "                                <td id=\"T_2d7277ec_9499_11ea_8a2a_0242ac1c0002row7_col0\" class=\"data row7 col0\" >65.000000</td>\n",
              "                        <td id=\"T_2d7277ec_9499_11ea_8a2a_0242ac1c0002row7_col1\" class=\"data row7 col1\" >25.000000</td>\n",
              "                        <td id=\"T_2d7277ec_9499_11ea_8a2a_0242ac1c0002row7_col2\" class=\"data row7 col2\" >no</td>\n",
              "                        <td id=\"T_2d7277ec_9499_11ea_8a2a_0242ac1c0002row7_col3\" class=\"data row7 col3\" >Post</td>\n",
              "                        <td id=\"T_2d7277ec_9499_11ea_8a2a_0242ac1c0002row7_col4\" class=\"data row7 col4\" >1.000000</td>\n",
              "                        <td id=\"T_2d7277ec_9499_11ea_8a2a_0242ac1c0002row7_col5\" class=\"data row7 col5\" >192.000000</td>\n",
              "                        <td id=\"T_2d7277ec_9499_11ea_8a2a_0242ac1c0002row7_col6\" class=\"data row7 col6\" >II</td>\n",
              "                        <td id=\"T_2d7277ec_9499_11ea_8a2a_0242ac1c0002row7_col7\" class=\"data row7 col7\" >16.000000</td>\n",
              "            </tr>\n",
              "            <tr>\n",
              "                                <td id=\"T_2d7277ec_9499_11ea_8a2a_0242ac1c0002row8_col0\" class=\"data row8 col0\" >80.000000</td>\n",
              "                        <td id=\"T_2d7277ec_9499_11ea_8a2a_0242ac1c0002row8_col1\" class=\"data row8 col1\" >59.000000</td>\n",
              "                        <td id=\"T_2d7277ec_9499_11ea_8a2a_0242ac1c0002row8_col2\" class=\"data row8 col2\" >no</td>\n",
              "                        <td id=\"T_2d7277ec_9499_11ea_8a2a_0242ac1c0002row8_col3\" class=\"data row8 col3\" >Post</td>\n",
              "                        <td id=\"T_2d7277ec_9499_11ea_8a2a_0242ac1c0002row8_col4\" class=\"data row8 col4\" >30.000000</td>\n",
              "                        <td id=\"T_2d7277ec_9499_11ea_8a2a_0242ac1c0002row8_col5\" class=\"data row8 col5\" >0.000000</td>\n",
              "                        <td id=\"T_2d7277ec_9499_11ea_8a2a_0242ac1c0002row8_col6\" class=\"data row8 col6\" >II</td>\n",
              "                        <td id=\"T_2d7277ec_9499_11ea_8a2a_0242ac1c0002row8_col7\" class=\"data row8 col7\" >39.000000</td>\n",
              "            </tr>\n",
              "            <tr>\n",
              "                                <td id=\"T_2d7277ec_9499_11ea_8a2a_0242ac1c0002row9_col0\" class=\"data row9 col0\" >66.000000</td>\n",
              "                        <td id=\"T_2d7277ec_9499_11ea_8a2a_0242ac1c0002row9_col1\" class=\"data row9 col1\" >3.000000</td>\n",
              "                        <td id=\"T_2d7277ec_9499_11ea_8a2a_0242ac1c0002row9_col2\" class=\"data row9 col2\" >no</td>\n",
              "                        <td id=\"T_2d7277ec_9499_11ea_8a2a_0242ac1c0002row9_col3\" class=\"data row9 col3\" >Post</td>\n",
              "                        <td id=\"T_2d7277ec_9499_11ea_8a2a_0242ac1c0002row9_col4\" class=\"data row9 col4\" >7.000000</td>\n",
              "                        <td id=\"T_2d7277ec_9499_11ea_8a2a_0242ac1c0002row9_col5\" class=\"data row9 col5\" >0.000000</td>\n",
              "                        <td id=\"T_2d7277ec_9499_11ea_8a2a_0242ac1c0002row9_col6\" class=\"data row9 col6\" >II</td>\n",
              "                        <td id=\"T_2d7277ec_9499_11ea_8a2a_0242ac1c0002row9_col7\" class=\"data row9 col7\" >18.000000</td>\n",
              "            </tr>\n",
              "    </tbody></table>"
            ],
            "text/plain": [
              "<pandas.io.formats.style.Styler at 0x7f80f903ab00>"
            ]
          },
          "metadata": {
            "tags": []
          },
          "execution_count": 5
        }
      ]
    },
    {
      "cell_type": "code",
      "metadata": {
        "id": "h8ltRTa4_WOn",
        "colab_type": "code",
        "outputId": "b638becd-7eef-4cc6-9ce1-49187f8ff9c6",
        "colab": {
          "base_uri": "https://localhost:8080/",
          "height": 88
        }
      },
      "source": [
        "y[:10]"
      ],
      "execution_count": 6,
      "outputs": [
        {
          "output_type": "execute_result",
          "data": {
            "text/plain": [
              "array([( True, 1814.), ( True, 2018.), ( True,  712.), ( True, 1807.),\n",
              "       ( True,  772.), ( True,  448.), (False, 2172.), (False, 2161.),\n",
              "       ( True,  471.), (False, 2014.)],\n",
              "      dtype=[('cens', '?'), ('time', '<f8')])"
            ]
          },
          "metadata": {
            "tags": []
          },
          "execution_count": 6
        }
      ]
    },
    {
      "cell_type": "code",
      "metadata": {
        "id": "psFuJmxA_i_S",
        "colab_type": "code",
        "outputId": "03f0f0ea-04dc-404e-ea23-dbd1bc341a3c",
        "colab": {
          "base_uri": "https://localhost:8080/",
          "height": 254
        }
      },
      "source": [
        "df_y = pd.DataFrame(data={'time': [y[i][1] for i in range(len(y))], 'event': [y[i][0] for i in range(len(y))]})\n",
        "df_y[:10].style.hide_index().highlight_min('event', color='lightgreen')"
      ],
      "execution_count": 7,
      "outputs": [
        {
          "output_type": "execute_result",
          "data": {
            "text/html": [
              "<style  type=\"text/css\" >\n",
              "    #T_3e1772be_9499_11ea_8a2a_0242ac1c0002row6_col1 {\n",
              "            background-color:  lightgreen;\n",
              "        }    #T_3e1772be_9499_11ea_8a2a_0242ac1c0002row7_col1 {\n",
              "            background-color:  lightgreen;\n",
              "        }    #T_3e1772be_9499_11ea_8a2a_0242ac1c0002row9_col1 {\n",
              "            background-color:  lightgreen;\n",
              "        }</style><table id=\"T_3e1772be_9499_11ea_8a2a_0242ac1c0002\" ><thead>    <tr>        <th class=\"col_heading level0 col0\" >time</th>        <th class=\"col_heading level0 col1\" >event</th>    </tr></thead><tbody>\n",
              "                <tr>\n",
              "                                <td id=\"T_3e1772be_9499_11ea_8a2a_0242ac1c0002row0_col0\" class=\"data row0 col0\" >1814.000000</td>\n",
              "                        <td id=\"T_3e1772be_9499_11ea_8a2a_0242ac1c0002row0_col1\" class=\"data row0 col1\" >True</td>\n",
              "            </tr>\n",
              "            <tr>\n",
              "                                <td id=\"T_3e1772be_9499_11ea_8a2a_0242ac1c0002row1_col0\" class=\"data row1 col0\" >2018.000000</td>\n",
              "                        <td id=\"T_3e1772be_9499_11ea_8a2a_0242ac1c0002row1_col1\" class=\"data row1 col1\" >True</td>\n",
              "            </tr>\n",
              "            <tr>\n",
              "                                <td id=\"T_3e1772be_9499_11ea_8a2a_0242ac1c0002row2_col0\" class=\"data row2 col0\" >712.000000</td>\n",
              "                        <td id=\"T_3e1772be_9499_11ea_8a2a_0242ac1c0002row2_col1\" class=\"data row2 col1\" >True</td>\n",
              "            </tr>\n",
              "            <tr>\n",
              "                                <td id=\"T_3e1772be_9499_11ea_8a2a_0242ac1c0002row3_col0\" class=\"data row3 col0\" >1807.000000</td>\n",
              "                        <td id=\"T_3e1772be_9499_11ea_8a2a_0242ac1c0002row3_col1\" class=\"data row3 col1\" >True</td>\n",
              "            </tr>\n",
              "            <tr>\n",
              "                                <td id=\"T_3e1772be_9499_11ea_8a2a_0242ac1c0002row4_col0\" class=\"data row4 col0\" >772.000000</td>\n",
              "                        <td id=\"T_3e1772be_9499_11ea_8a2a_0242ac1c0002row4_col1\" class=\"data row4 col1\" >True</td>\n",
              "            </tr>\n",
              "            <tr>\n",
              "                                <td id=\"T_3e1772be_9499_11ea_8a2a_0242ac1c0002row5_col0\" class=\"data row5 col0\" >448.000000</td>\n",
              "                        <td id=\"T_3e1772be_9499_11ea_8a2a_0242ac1c0002row5_col1\" class=\"data row5 col1\" >True</td>\n",
              "            </tr>\n",
              "            <tr>\n",
              "                                <td id=\"T_3e1772be_9499_11ea_8a2a_0242ac1c0002row6_col0\" class=\"data row6 col0\" >2172.000000</td>\n",
              "                        <td id=\"T_3e1772be_9499_11ea_8a2a_0242ac1c0002row6_col1\" class=\"data row6 col1\" >False</td>\n",
              "            </tr>\n",
              "            <tr>\n",
              "                                <td id=\"T_3e1772be_9499_11ea_8a2a_0242ac1c0002row7_col0\" class=\"data row7 col0\" >2161.000000</td>\n",
              "                        <td id=\"T_3e1772be_9499_11ea_8a2a_0242ac1c0002row7_col1\" class=\"data row7 col1\" >False</td>\n",
              "            </tr>\n",
              "            <tr>\n",
              "                                <td id=\"T_3e1772be_9499_11ea_8a2a_0242ac1c0002row8_col0\" class=\"data row8 col0\" >471.000000</td>\n",
              "                        <td id=\"T_3e1772be_9499_11ea_8a2a_0242ac1c0002row8_col1\" class=\"data row8 col1\" >True</td>\n",
              "            </tr>\n",
              "            <tr>\n",
              "                                <td id=\"T_3e1772be_9499_11ea_8a2a_0242ac1c0002row9_col0\" class=\"data row9 col0\" >2014.000000</td>\n",
              "                        <td id=\"T_3e1772be_9499_11ea_8a2a_0242ac1c0002row9_col1\" class=\"data row9 col1\" >False</td>\n",
              "            </tr>\n",
              "    </tbody></table>"
            ],
            "text/plain": [
              "<pandas.io.formats.style.Styler at 0x7f80f8d0d6d8>"
            ]
          },
          "metadata": {
            "tags": []
          },
          "execution_count": 7
        }
      ]
    },
    {
      "cell_type": "code",
      "metadata": {
        "id": "rzS8h1GG_o_A",
        "colab_type": "code",
        "outputId": "f5ad0fe2-e4bd-401e-bc11-b74c2341d837",
        "colab": {
          "base_uri": "https://localhost:8080/",
          "height": 70
        }
      },
      "source": [
        "print(f'Number of samples: {len(df_y)}')\n",
        "print(f'Number of right censored samples: {len(df_y.query(\"event == False\"))}')\n",
        "print(f'Percentage of right censored samples: {100*len(df_y.query(\"event == False\"))/len(df_y):.1f}%')"
      ],
      "execution_count": 8,
      "outputs": [
        {
          "output_type": "stream",
          "text": [
            "Number of samples: 686\n",
            "Number of right censored samples: 387\n",
            "Percentage of right censored samples: 56.4%\n"
          ],
          "name": "stdout"
        }
      ]
    },
    {
      "cell_type": "code",
      "metadata": {
        "id": "duYhddUr_1nH",
        "colab_type": "code",
        "outputId": "048fd59c-385c-45be-9da3-40878237ce01",
        "colab": {
          "base_uri": "https://localhost:8080/",
          "height": 52
        }
      },
      "source": [
        "from sklearn.model_selection import train_test_split\n",
        "\n",
        "X_trn, X_test, y_trn, y_test = train_test_split(X, y, random_state=42)\n",
        "\n",
        "print(f'Number of training samples: {len(y_trn)}')\n",
        "print(f'Number of test samples: {len(y_test)}')"
      ],
      "execution_count": 9,
      "outputs": [
        {
          "output_type": "stream",
          "text": [
            "Number of training samples: 514\n",
            "Number of test samples: 172\n"
          ],
          "name": "stdout"
        }
      ]
    },
    {
      "cell_type": "code",
      "metadata": {
        "id": "R1UVhukR_8VA",
        "colab_type": "code",
        "colab": {}
      },
      "source": [
        "scaling_cols = [c for c in X.columns if X[c].dtype.kind in ['i', 'f']]\n",
        "cat_cols = [c for c in X.columns if X[c].dtype.kind not in [\"i\", \"f\"]]"
      ],
      "execution_count": 0,
      "outputs": []
    },
    {
      "cell_type": "code",
      "metadata": {
        "id": "axfu8RQeACQx",
        "colab_type": "code",
        "colab": {}
      },
      "source": [
        "from sklearn.compose import ColumnTransformer\n",
        "from sklearn.preprocessing import OrdinalEncoder\n",
        "from sklearn.preprocessing import StandardScaler\n",
        "\n",
        "preprocessor = ColumnTransformer(\n",
        "    [('cat-preprocessor', OrdinalEncoder(), cat_cols),\n",
        "    ('standard-scaler', StandardScaler(), scaling_cols)],\n",
        "    remainder='passthrough', sparse_threshold=0)"
      ],
      "execution_count": 0,
      "outputs": []
    },
    {
      "cell_type": "code",
      "metadata": {
        "id": "77YbwMKvAFHQ",
        "colab_type": "code",
        "outputId": "ea05e759-4394-409e-873d-f35817f05ea9",
        "colab": {
          "base_uri": "https://localhost:8080/",
          "height": 35
        }
      },
      "source": [
        "from sklearn.pipeline import make_pipeline\n",
        "from sksurv.linear_model import CoxPHSurvivalAnalysis\n",
        "from sksurv.metrics import concordance_index_censored\n",
        "\n",
        "cox = make_pipeline(preprocessor, CoxPHSurvivalAnalysis())\n",
        "cox.fit(X_trn, y_trn)\n",
        "\n",
        "ci_cox = concordance_index_censored(y_test[\"cens\"], y_test[\"time\"], cox.predict(X_test))\n",
        "print(f'The c-index of Cox is given by {ci_cox[0]:.3f}')"
      ],
      "execution_count": 12,
      "outputs": [
        {
          "output_type": "stream",
          "text": [
            "The c-index of Cox is given by 0.635\n"
          ],
          "name": "stdout"
        }
      ]
    },
    {
      "cell_type": "code",
      "metadata": {
        "id": "ZNHQ-bkWALNy",
        "colab_type": "code",
        "outputId": "0bee7147-b3f6-47dc-fa86-1a5d0cdd9f63",
        "colab": {
          "base_uri": "https://localhost:8080/",
          "height": 52
        }
      },
      "source": [
        "from scipy.stats import reciprocal\n",
        "from sklearn.model_selection import RandomizedSearchCV\n",
        "\n",
        "param_distributions = {\n",
        "    'coxphsurvivalanalysis__alpha': reciprocal(0.1, 100),\n",
        "}\n",
        "\n",
        "model_random_search = RandomizedSearchCV(cox, param_distributions=param_distributions, n_iter=50, n_jobs=-1, cv=3, random_state=42)\n",
        "model_random_search.fit(X_trn, y_trn)\n",
        "\n",
        "print(\n",
        "    f\"The c-index of Cox using a {model_random_search.__class__.__name__} is \"\n",
        "    f\"{model_random_search.score(X_test, y_test):.3f}\")\n",
        "print(\n",
        "    f\"The best set of parameters is: {model_random_search.best_params_}\"\n",
        ")"
      ],
      "execution_count": 14,
      "outputs": [
        {
          "output_type": "stream",
          "text": [
            "The c-index of Cox using a RandomizedSearchCV is 0.646\n",
            "The best set of parameters is: {'coxphsurvivalanalysis__alpha': 31.428808908401084}\n"
          ],
          "name": "stdout"
        }
      ]
    },
    {
      "cell_type": "code",
      "metadata": {
        "id": "MrhAveCQAdxF",
        "colab_type": "code",
        "outputId": "493787d0-2631-458a-eb38-0d49a35385b9",
        "colab": {
          "base_uri": "https://localhost:8080/",
          "height": 35
        }
      },
      "source": [
        "alpha = model_random_search.best_params_['coxphsurvivalanalysis__alpha']\n",
        "cox_best = make_pipeline(preprocessor, CoxPHSurvivalAnalysis(alpha=alpha))\n",
        "cox_best.fit(X_trn, y_trn)\n",
        "\n",
        "ci_cox = concordance_index_censored(y_test[\"cens\"], y_test[\"time\"], cox_best.predict(X_test))\n",
        "print(f'The c-index of Cox is given by {ci_cox[0]:.3f}')"
      ],
      "execution_count": 15,
      "outputs": [
        {
          "output_type": "stream",
          "text": [
            "The c-index of Cox is given by 0.646\n"
          ],
          "name": "stdout"
        }
      ]
    },
    {
      "cell_type": "code",
      "metadata": {
        "id": "oHk1yVDmBZYf",
        "colab_type": "code",
        "outputId": "fe15a9bb-b60b-46ef-957f-23fc849f4623",
        "colab": {
          "base_uri": "https://localhost:8080/",
          "height": 35
        }
      },
      "source": [
        "!pip install -q eli5"
      ],
      "execution_count": 16,
      "outputs": [
        {
          "output_type": "stream",
          "text": [
            "\u001b[?25l\r\u001b[K     |███                             | 10kB 24.8MB/s eta 0:00:01\r\u001b[K     |██████▏                         | 20kB 1.8MB/s eta 0:00:01\r\u001b[K     |█████████▎                      | 30kB 2.3MB/s eta 0:00:01\r\u001b[K     |████████████▍                   | 40kB 2.6MB/s eta 0:00:01\r\u001b[K     |███████████████▌                | 51kB 2.0MB/s eta 0:00:01\r\u001b[K     |██████████████████▋             | 61kB 2.2MB/s eta 0:00:01\r\u001b[K     |█████████████████████▊          | 71kB 2.5MB/s eta 0:00:01\r\u001b[K     |████████████████████████▊       | 81kB 2.7MB/s eta 0:00:01\r\u001b[K     |███████████████████████████▉    | 92kB 2.9MB/s eta 0:00:01\r\u001b[K     |███████████████████████████████ | 102kB 2.8MB/s eta 0:00:01\r\u001b[K     |████████████████████████████████| 112kB 2.8MB/s \n",
            "\u001b[?25h"
          ],
          "name": "stdout"
        }
      ]
    },
    {
      "cell_type": "code",
      "metadata": {
        "id": "Oy3whfxOAlzN",
        "colab_type": "code",
        "outputId": "c08dc968-0b2a-4eca-843f-6bf8d728d0af",
        "colab": {
          "base_uri": "https://localhost:8080/",
          "height": 125
        }
      },
      "source": [
        "from eli5.sklearn import PermutationImportance"
      ],
      "execution_count": 17,
      "outputs": [
        {
          "output_type": "stream",
          "text": [
            "/usr/local/lib/python3.6/dist-packages/sklearn/utils/deprecation.py:144: FutureWarning: The sklearn.metrics.scorer module is  deprecated in version 0.22 and will be removed in version 0.24. The corresponding classes / functions should instead be imported from sklearn.metrics. Anything that cannot be imported from sklearn.metrics is now part of the private API.\n",
            "  warnings.warn(message, FutureWarning)\n",
            "/usr/local/lib/python3.6/dist-packages/sklearn/utils/deprecation.py:144: FutureWarning: The sklearn.feature_selection.base module is  deprecated in version 0.22 and will be removed in version 0.24. The corresponding classes / functions should instead be imported from sklearn.feature_selection. Anything that cannot be imported from sklearn.feature_selection is now part of the private API.\n",
            "  warnings.warn(message, FutureWarning)\n",
            "Using TensorFlow backend.\n"
          ],
          "name": "stderr"
        }
      ]
    },
    {
      "cell_type": "code",
      "metadata": {
        "id": "j2wH_sxgBX1-",
        "colab_type": "code",
        "colab": {}
      },
      "source": [
        "perm = PermutationImportance(\n",
        "    cox_best.steps[-1][1], n_iter=100).fit(preprocessor.fit_transform(X_trn),y_trn)"
      ],
      "execution_count": 0,
      "outputs": []
    },
    {
      "cell_type": "code",
      "metadata": {
        "id": "IjDH0p1dBuyV",
        "colab_type": "code",
        "outputId": "6c4b49f8-c4e1-498e-d3c8-52986b6aa13b",
        "colab": {
          "base_uri": "https://localhost:8080/",
          "height": 173
        }
      },
      "source": [
        "import eli5\n",
        "eli5.show_weights(perm, feature_names = X.columns.tolist())"
      ],
      "execution_count": 80,
      "outputs": [
        {
          "output_type": "execute_result",
          "data": {
            "text/html": [
              "\n",
              "    <style>\n",
              "    table.eli5-weights tr:hover {\n",
              "        filter: brightness(85%);\n",
              "    }\n",
              "</style>\n",
              "\n",
              "\n",
              "\n",
              "    \n",
              "\n",
              "    \n",
              "\n",
              "    \n",
              "\n",
              "    \n",
              "\n",
              "    \n",
              "\n",
              "    \n",
              "\n",
              "\n",
              "    \n",
              "\n",
              "    \n",
              "\n",
              "    \n",
              "\n",
              "    \n",
              "\n",
              "    \n",
              "\n",
              "    \n",
              "\n",
              "\n",
              "    \n",
              "\n",
              "    \n",
              "\n",
              "    \n",
              "\n",
              "    \n",
              "\n",
              "    \n",
              "        <table class=\"eli5-weights eli5-feature-importances\" style=\"border-collapse: collapse; border: none; margin-top: 0em; table-layout: auto;\">\n",
              "    <thead>\n",
              "    <tr style=\"border: none;\">\n",
              "        <th style=\"padding: 0 1em 0 0.5em; text-align: right; border: none;\">Weight</th>\n",
              "        <th style=\"padding: 0 0.5em 0 0.5em; text-align: left; border: none;\">Feature</th>\n",
              "    </tr>\n",
              "    </thead>\n",
              "    <tbody>\n",
              "    \n",
              "        <tr style=\"background-color: hsl(120, 100.00%, 80.00%); border: none;\">\n",
              "            <td style=\"padding: 0 1em 0 0.5em; text-align: right; border: none;\">\n",
              "                0.0677\n",
              "                \n",
              "                    &plusmn; 0.0260\n",
              "                \n",
              "            </td>\n",
              "            <td style=\"padding: 0 0.5em 0 0.5em; text-align: left; border: none;\">\n",
              "                tgrade\n",
              "            </td>\n",
              "        </tr>\n",
              "    \n",
              "        <tr style=\"background-color: hsl(120, 100.00%, 81.27%); border: none;\">\n",
              "            <td style=\"padding: 0 1em 0 0.5em; text-align: right; border: none;\">\n",
              "                0.0616\n",
              "                \n",
              "                    &plusmn; 0.0206\n",
              "                \n",
              "            </td>\n",
              "            <td style=\"padding: 0 0.5em 0 0.5em; text-align: left; border: none;\">\n",
              "                progrec\n",
              "            </td>\n",
              "        </tr>\n",
              "    \n",
              "        <tr style=\"background-color: hsl(120, 100.00%, 92.44%); border: none;\">\n",
              "            <td style=\"padding: 0 1em 0 0.5em; text-align: right; border: none;\">\n",
              "                0.0169\n",
              "                \n",
              "                    &plusmn; 0.0131\n",
              "                \n",
              "            </td>\n",
              "            <td style=\"padding: 0 0.5em 0 0.5em; text-align: left; border: none;\">\n",
              "                horTh\n",
              "            </td>\n",
              "        </tr>\n",
              "    \n",
              "        <tr style=\"background-color: hsl(120, 100.00%, 92.99%); border: none;\">\n",
              "            <td style=\"padding: 0 1em 0 0.5em; text-align: right; border: none;\">\n",
              "                0.0151\n",
              "                \n",
              "                    &plusmn; 0.0096\n",
              "                \n",
              "            </td>\n",
              "            <td style=\"padding: 0 0.5em 0 0.5em; text-align: left; border: none;\">\n",
              "                menostat\n",
              "            </td>\n",
              "        </tr>\n",
              "    \n",
              "        <tr style=\"background-color: hsl(120, 100.00%, 96.42%); border: none;\">\n",
              "            <td style=\"padding: 0 1em 0 0.5em; text-align: right; border: none;\">\n",
              "                0.0058\n",
              "                \n",
              "                    &plusmn; 0.0084\n",
              "                \n",
              "            </td>\n",
              "            <td style=\"padding: 0 0.5em 0 0.5em; text-align: left; border: none;\">\n",
              "                age\n",
              "            </td>\n",
              "        </tr>\n",
              "    \n",
              "        <tr style=\"background-color: hsl(120, 100.00%, 96.49%); border: none;\">\n",
              "            <td style=\"padding: 0 1em 0 0.5em; text-align: right; border: none;\">\n",
              "                0.0056\n",
              "                \n",
              "                    &plusmn; 0.0065\n",
              "                \n",
              "            </td>\n",
              "            <td style=\"padding: 0 0.5em 0 0.5em; text-align: left; border: none;\">\n",
              "                tsize\n",
              "            </td>\n",
              "        </tr>\n",
              "    \n",
              "        <tr style=\"background-color: hsl(120, 100.00%, 97.41%); border: none;\">\n",
              "            <td style=\"padding: 0 1em 0 0.5em; text-align: right; border: none;\">\n",
              "                0.0037\n",
              "                \n",
              "                    &plusmn; 0.0040\n",
              "                \n",
              "            </td>\n",
              "            <td style=\"padding: 0 0.5em 0 0.5em; text-align: left; border: none;\">\n",
              "                pnodes\n",
              "            </td>\n",
              "        </tr>\n",
              "    \n",
              "        <tr style=\"background-color: hsl(120, 100.00%, 99.36%); border: none;\">\n",
              "            <td style=\"padding: 0 1em 0 0.5em; text-align: right; border: none;\">\n",
              "                0.0005\n",
              "                \n",
              "                    &plusmn; 0.0017\n",
              "                \n",
              "            </td>\n",
              "            <td style=\"padding: 0 0.5em 0 0.5em; text-align: left; border: none;\">\n",
              "                estrec\n",
              "            </td>\n",
              "        </tr>\n",
              "    \n",
              "    \n",
              "    </tbody>\n",
              "</table>\n",
              "    \n",
              "\n",
              "    \n",
              "\n",
              "\n",
              "    \n",
              "\n",
              "    \n",
              "\n",
              "    \n",
              "\n",
              "    \n",
              "\n",
              "    \n",
              "\n",
              "    \n",
              "\n",
              "\n",
              "\n"
            ],
            "text/plain": [
              "<IPython.core.display.HTML object>"
            ]
          },
          "metadata": {
            "tags": []
          },
          "execution_count": 80
        }
      ]
    },
    {
      "cell_type": "code",
      "metadata": {
        "id": "1Rdepqh18UDV",
        "colab_type": "code",
        "colab": {}
      },
      "source": [
        "data = perm.results_\n",
        "data = pd.DataFrame(data, columns=X_trn.columns)\n",
        "meds = data.median()\n",
        "meds = meds.sort_values(ascending=False)\n",
        "data = data[meds.index]"
      ],
      "execution_count": 0,
      "outputs": []
    },
    {
      "cell_type": "code",
      "metadata": {
        "id": "PaPRs7hR9QL5",
        "colab_type": "code",
        "colab": {
          "base_uri": "https://localhost:8080/",
          "height": 444
        },
        "outputId": "12d65d8c-bbcb-4f1e-b1a4-9c9284635d9b"
      },
      "source": [
        "fig, ax = plt.subplots(figsize=(10,7))\n",
        "data.boxplot(ax=ax)\n",
        "ax.set_title('Feature Importances')\n",
        "plt.show()"
      ],
      "execution_count": 82,
      "outputs": [
        {
          "output_type": "display_data",
          "data": {
            "image/png": "[encoded data removed]",
            "text/plain": [
              "<Figure size 720x504 with 1 Axes>"
            ]
          },
          "metadata": {
            "tags": [],
            "needs_background": "light"
          }
        }
      ]
    },
    {
      "cell_type": "code",
      "metadata": {
        "id": "gCVwkQmU5fSp",
        "colab_type": "code",
        "colab": {
          "base_uri": "https://localhost:8080/",
          "height": 35
        },
        "outputId": "4f455aaa-7a6a-4bc8-92f9-f95a32f76653"
      },
      "source": [
        "from sksurv.ensemble import RandomSurvivalForest\n",
        "\n",
        "rsf = make_pipeline(preprocessor, RandomSurvivalForest(random_state=42))\n",
        "rsf.fit(X_trn, y_trn)\n",
        "ci_rsf = concordance_index_censored(y_test[\"cens\"], y_test[\"time\"], rsf.predict(X_test))\n",
        "print(f'The c-index of Random Survival Forest is given by {ci_rsf[0]:.3f}')"
      ],
      "execution_count": 70,
      "outputs": [
        {
          "output_type": "stream",
          "text": [
            "The c-index of Random Survival Forest is given by 0.658\n"
          ],
          "name": "stdout"
        }
      ]
    },
    {
      "cell_type": "code",
      "metadata": {
        "id": "WeyeCxd1-12x",
        "colab_type": "code",
        "colab": {
          "base_uri": "https://localhost:8080/",
          "height": 52
        },
        "outputId": "a48d9a73-c33c-4166-c35f-1472e4c841fc"
      },
      "source": [
        "from scipy.stats import reciprocal\n",
        "from sklearn.model_selection import RandomizedSearchCV\n",
        "\n",
        "class reciprocal_int:\n",
        "    def __init__(self, a, b):\n",
        "        self._distribution = reciprocal(a, b)\n",
        "\n",
        "    def rvs(self, *args, **kwargs):\n",
        "        return self._distribution.rvs(*args, **kwargs).astype(int)\n",
        "\n",
        "param_distributions1 = {\n",
        "    'randomsurvivalforest__max_features': reciprocal_int(3, 8),\n",
        "    'randomsurvivalforest__max_depth': reciprocal_int(5, 50),\n",
        "    'randomsurvivalforest__min_samples_leaf': reciprocal_int(1, 40),\n",
        "}\n",
        "\n",
        "model_random_search = RandomizedSearchCV(\n",
        "    rsf, param_distributions=param_distributions1, n_iter=50, n_jobs=-1, cv=3, random_state=42)\n",
        "model_random_search.fit(X_trn, y_trn)\n",
        "\n",
        "print(\n",
        "    f\"The c-index of random survival forest using a {model_random_search.__class__.__name__} is \"\n",
        "    f\"{model_random_search.score(X_test, y_test):.3f}\")\n",
        "print(\n",
        "    f\"The best set of parameters is: {model_random_search.best_params_}\"\n",
        ")"
      ],
      "execution_count": 73,
      "outputs": [
        {
          "output_type": "stream",
          "text": [
            "The c-index of random survival forest using a RandomizedSearchCV is 0.641\n",
            "The best set of parameters is: {'randomsurvivalforest__max_depth': 20, 'randomsurvivalforest__max_features': 3, 'randomsurvivalforest__min_samples_leaf': 1}\n"
          ],
          "name": "stdout"
        }
      ]
    },
    {
      "cell_type": "code",
      "metadata": {
        "id": "BEBio-THEX9j",
        "colab_type": "code",
        "colab": {}
      },
      "source": [
        "max_depth = model_random_search.best_params_['randomsurvivalforest__max_depth']\n",
        "max_features = model_random_search.best_params_['randomsurvivalforest__max_features']\n",
        "min_samples_leaf = model_random_search.best_params_['randomsurvivalforest__min_samples_leaf']"
      ],
      "execution_count": 0,
      "outputs": []
    },
    {
      "cell_type": "code",
      "metadata": {
        "id": "7W6p8DpyGCuK",
        "colab_type": "code",
        "colab": {
          "base_uri": "https://localhost:8080/",
          "height": 35
        },
        "outputId": "cc1dcd12-b4db-4da4-a82d-4dbee079aec8"
      },
      "source": [
        "rsf_best = make_pipeline(preprocessor, RandomSurvivalForest(random_state=42, max_depth=max_depth, max_features=max_features, min_samples_leaf=min_samples_leaf))\n",
        "rsf_best.fit(X_trn, y_trn)\n",
        "ci_rsf = concordance_index_censored(y_test[\"cens\"], y_test[\"time\"], rsf_best.predict(X_test))\n",
        "print(f'The c-index of Random Survival Forest is given by {ci_rsf[0]:.3f}')"
      ],
      "execution_count": 83,
      "outputs": [
        {
          "output_type": "stream",
          "text": [
            "The c-index of Random Survival Forest is given by 0.641\n"
          ],
          "name": "stdout"
        }
      ]
    },
    {
      "cell_type": "code",
      "metadata": {
        "id": "uD39_vKoB4Bf",
        "colab_type": "code",
        "colab": {
          "base_uri": "https://localhost:8080/",
          "height": 105
        },
        "outputId": "924ef1d7-aca2-4151-e3a5-2b3a8897e4c1"
      },
      "source": [
        "rsf_best.steps[-1][1]"
      ],
      "execution_count": 74,
      "outputs": [
        {
          "output_type": "execute_result",
          "data": {
            "text/plain": [
              "RandomSurvivalForest(bootstrap=True, max_depth=None, max_features='auto',\n",
              "                     max_leaf_nodes=None, max_samples=None, min_samples_leaf=3,\n",
              "                     min_samples_split=6, min_weight_fraction_leaf=0.0,\n",
              "                     n_estimators=100, n_jobs=None, oob_score=False,\n",
              "                     random_state=42, verbose=0, warm_start=False)"
            ]
          },
          "metadata": {
            "tags": []
          },
          "execution_count": 74
        }
      ]
    },
    {
      "cell_type": "code",
      "metadata": {
        "id": "pzsLKvj5EJ5B",
        "colab_type": "code",
        "colab": {}
      },
      "source": [
        "perm = PermutationImportance(\n",
        "    rsf.steps[-1][1], n_iter=100).fit(preprocessor.fit_transform(X_trn),y_trn)"
      ],
      "execution_count": 0,
      "outputs": []
    },
    {
      "cell_type": "code",
      "metadata": {
        "id": "T7VgksvkGe8u",
        "colab_type": "code",
        "colab": {}
      },
      "source": [
        "data = perm.results_\n",
        "data = pd.DataFrame(data, columns=X_trn.columns)\n",
        "meds = data.median()\n",
        "meds = meds.sort_values(ascending=False)\n",
        "data = data[meds.index]"
      ],
      "execution_count": 0,
      "outputs": []
    },
    {
      "cell_type": "code",
      "metadata": {
        "id": "PsoXcbNsG2yo",
        "colab_type": "code",
        "colab": {
          "base_uri": "https://localhost:8080/",
          "height": 444
        },
        "outputId": "c4704cca-a536-4ce8-9bd7-13371da173c7"
      },
      "source": [
        "fig, ax = plt.subplots(figsize=(10,7))\n",
        "data.boxplot(ax=ax)\n",
        "ax.set_title('Feature Importances')\n",
        "plt.show()"
      ],
      "execution_count": 87,
      "outputs": [
        {
          "output_type": "display_data",
          "data": {
            "image/png": "[encoded data removed]",
            "text/plain": [
              "<Figure size 720x504 with 1 Axes>"
            ]
          },
          "metadata": {
            "tags": [],
            "needs_background": "light"
          }
        }
      ]
    },
    {
      "cell_type": "code",
      "metadata": {
        "id": "MQNLJXlsG6ou",
        "colab_type": "code",
        "colab": {
          "base_uri": "https://localhost:8080/",
          "height": 173
        },
        "outputId": "d86f1199-d5a9-45cc-b59e-b30e5d4be1d1"
      },
      "source": [
        "eli5.show_weights(perm, feature_names = X.columns.tolist())"
      ],
      "execution_count": 88,
      "outputs": [
        {
          "output_type": "execute_result",
          "data": {
            "text/html": [
              "\n",
              "    <style>\n",
              "    table.eli5-weights tr:hover {\n",
              "        filter: brightness(85%);\n",
              "    }\n",
              "</style>\n",
              "\n",
              "\n",
              "\n",
              "    \n",
              "\n",
              "    \n",
              "\n",
              "    \n",
              "\n",
              "    \n",
              "\n",
              "    \n",
              "\n",
              "    \n",
              "\n",
              "\n",
              "    \n",
              "\n",
              "    \n",
              "\n",
              "    \n",
              "\n",
              "    \n",
              "\n",
              "    \n",
              "\n",
              "    \n",
              "\n",
              "\n",
              "    \n",
              "\n",
              "    \n",
              "\n",
              "    \n",
              "\n",
              "    \n",
              "\n",
              "    \n",
              "        <table class=\"eli5-weights eli5-feature-importances\" style=\"border-collapse: collapse; border: none; margin-top: 0em; table-layout: auto;\">\n",
              "    <thead>\n",
              "    <tr style=\"border: none;\">\n",
              "        <th style=\"padding: 0 1em 0 0.5em; text-align: right; border: none;\">Weight</th>\n",
              "        <th style=\"padding: 0 0.5em 0 0.5em; text-align: left; border: none;\">Feature</th>\n",
              "    </tr>\n",
              "    </thead>\n",
              "    <tbody>\n",
              "    \n",
              "        <tr style=\"background-color: hsl(120, 100.00%, 80.00%); border: none;\">\n",
              "            <td style=\"padding: 0 1em 0 0.5em; text-align: right; border: none;\">\n",
              "                0.1222\n",
              "                \n",
              "                    &plusmn; 0.0195\n",
              "                \n",
              "            </td>\n",
              "            <td style=\"padding: 0 0.5em 0 0.5em; text-align: left; border: none;\">\n",
              "                progrec\n",
              "            </td>\n",
              "        </tr>\n",
              "    \n",
              "        <tr style=\"background-color: hsl(120, 100.00%, 81.13%); border: none;\">\n",
              "            <td style=\"padding: 0 1em 0 0.5em; text-align: right; border: none;\">\n",
              "                0.1125\n",
              "                \n",
              "                    &plusmn; 0.0188\n",
              "                \n",
              "            </td>\n",
              "            <td style=\"padding: 0 0.5em 0 0.5em; text-align: left; border: none;\">\n",
              "                tgrade\n",
              "            </td>\n",
              "        </tr>\n",
              "    \n",
              "        <tr style=\"background-color: hsl(120, 100.00%, 86.30%); border: none;\">\n",
              "            <td style=\"padding: 0 1em 0 0.5em; text-align: right; border: none;\">\n",
              "                0.0712\n",
              "                \n",
              "                    &plusmn; 0.0096\n",
              "                \n",
              "            </td>\n",
              "            <td style=\"padding: 0 0.5em 0 0.5em; text-align: left; border: none;\">\n",
              "                pnodes\n",
              "            </td>\n",
              "        </tr>\n",
              "    \n",
              "        <tr style=\"background-color: hsl(120, 100.00%, 86.48%); border: none;\">\n",
              "            <td style=\"padding: 0 1em 0 0.5em; text-align: right; border: none;\">\n",
              "                0.0698\n",
              "                \n",
              "                    &plusmn; 0.0097\n",
              "                \n",
              "            </td>\n",
              "            <td style=\"padding: 0 0.5em 0 0.5em; text-align: left; border: none;\">\n",
              "                menostat\n",
              "            </td>\n",
              "        </tr>\n",
              "    \n",
              "        <tr style=\"background-color: hsl(120, 100.00%, 89.00%); border: none;\">\n",
              "            <td style=\"padding: 0 1em 0 0.5em; text-align: right; border: none;\">\n",
              "                0.0521\n",
              "                \n",
              "                    &plusmn; 0.0082\n",
              "                \n",
              "            </td>\n",
              "            <td style=\"padding: 0 0.5em 0 0.5em; text-align: left; border: none;\">\n",
              "                tsize\n",
              "            </td>\n",
              "        </tr>\n",
              "    \n",
              "        <tr style=\"background-color: hsl(120, 100.00%, 92.44%); border: none;\">\n",
              "            <td style=\"padding: 0 1em 0 0.5em; text-align: right; border: none;\">\n",
              "                0.0304\n",
              "                \n",
              "                    &plusmn; 0.0083\n",
              "                \n",
              "            </td>\n",
              "            <td style=\"padding: 0 0.5em 0 0.5em; text-align: left; border: none;\">\n",
              "                age\n",
              "            </td>\n",
              "        </tr>\n",
              "    \n",
              "        <tr style=\"background-color: hsl(120, 100.00%, 93.58%); border: none;\">\n",
              "            <td style=\"padding: 0 1em 0 0.5em; text-align: right; border: none;\">\n",
              "                0.0241\n",
              "                \n",
              "                    &plusmn; 0.0054\n",
              "                \n",
              "            </td>\n",
              "            <td style=\"padding: 0 0.5em 0 0.5em; text-align: left; border: none;\">\n",
              "                horTh\n",
              "            </td>\n",
              "        </tr>\n",
              "    \n",
              "        <tr style=\"background-color: hsl(120, 100.00%, 95.74%); border: none;\">\n",
              "            <td style=\"padding: 0 1em 0 0.5em; text-align: right; border: none;\">\n",
              "                0.0134\n",
              "                \n",
              "                    &plusmn; 0.0034\n",
              "                \n",
              "            </td>\n",
              "            <td style=\"padding: 0 0.5em 0 0.5em; text-align: left; border: none;\">\n",
              "                estrec\n",
              "            </td>\n",
              "        </tr>\n",
              "    \n",
              "    \n",
              "    </tbody>\n",
              "</table>\n",
              "    \n",
              "\n",
              "    \n",
              "\n",
              "\n",
              "    \n",
              "\n",
              "    \n",
              "\n",
              "    \n",
              "\n",
              "    \n",
              "\n",
              "    \n",
              "\n",
              "    \n",
              "\n",
              "\n",
              "\n"
            ],
            "text/plain": [
              "<IPython.core.display.HTML object>"
            ]
          },
          "metadata": {
            "tags": []
          },
          "execution_count": 88
        }
      ]
    },
    {
      "cell_type": "code",
      "metadata": {
        "id": "eIJpHi_7Hqah",
        "colab_type": "code",
        "colab": {}
      },
      "source": [
        ""
      ],
      "execution_count": 0,
      "outputs": []
    }
  ]
}